{
 "cells": [
  {
   "cell_type": "code",
   "execution_count": 1,
   "id": "08919837",
   "metadata": {},
   "outputs": [],
   "source": [
    "class1 <- c(70,67,81,92,78,62,85,73)\n",
    "class2 <- c(66,75,48,58,80,57,50)"
   ]
  },
  {
   "cell_type": "code",
   "execution_count": 2,
   "id": "0f0699dd",
   "metadata": {},
   "outputs": [
    {
     "data": {
      "text/plain": [
       "\n",
       "\tTwo Sample t-test\n",
       "\n",
       "data:  class1 and class2\n",
       "t = 2.4552, df = 13, p-value = 0.02893\n",
       "alternative hypothesis: true difference in means is not equal to 0\n",
       "95 percent confidence interval:\n",
       "  1.681401 26.318599\n",
       "sample estimates:\n",
       "mean of x mean of y \n",
       "       76        62 \n"
      ]
     },
     "metadata": {},
     "output_type": "display_data"
    }
   ],
   "source": [
    "t.test(class1,class2, conf.level=0.95, var.equal=T)"
   ]
  },
  {
   "cell_type": "code",
   "execution_count": 3,
   "id": "17c4c6b3",
   "metadata": {},
   "outputs": [
    {
     "data": {
      "text/plain": [
       "\n",
       "\tWelch Two Sample t-test\n",
       "\n",
       "data:  class1 and class2\n",
       "t = 2.4197, df = 11.625, p-value = 0.03293\n",
       "alternative hypothesis: true difference in means is not equal to 0\n",
       "95 percent confidence interval:\n",
       "  1.348417 26.651583\n",
       "sample estimates:\n",
       "mean of x mean of y \n",
       "       76        62 \n"
      ]
     },
     "metadata": {},
     "output_type": "display_data"
    }
   ],
   "source": [
    "t.test(class1,class2, var.equal=F)"
   ]
  },
  {
   "cell_type": "code",
   "execution_count": 4,
   "id": "5347a48a",
   "metadata": {},
   "outputs": [
    {
     "data": {
      "text/plain": [
       "\n",
       "\tWilcoxon rank sum test\n",
       "\n",
       "data:  class1 and class2\n",
       "W = 46, p-value = 0.04009\n",
       "alternative hypothesis: true location shift is not equal to 0\n"
      ]
     },
     "metadata": {},
     "output_type": "display_data"
    }
   ],
   "source": [
    "wilcox.test(class1,class2, correct=T)"
   ]
  },
  {
   "cell_type": "code",
   "execution_count": 5,
   "id": "1428578b",
   "metadata": {},
   "outputs": [
    {
     "data": {
      "text/plain": [
       "\n",
       "\tF test to compare two variances\n",
       "\n",
       "data:  class1 and class2\n",
       "F = 0.6626, num df = 7, denom df = 6, p-value = 0.5997\n",
       "alternative hypothesis: true ratio of variances is not equal to 1\n",
       "95 percent confidence interval:\n",
       " 0.1163381 3.3915838\n",
       "sample estimates:\n",
       "ratio of variances \n",
       "         0.6626003 \n"
      ]
     },
     "metadata": {},
     "output_type": "display_data"
    }
   ],
   "source": [
    "var.test(class1,class2, conf.level=0.95)"
   ]
  },
  {
   "cell_type": "code",
   "execution_count": 6,
   "id": "28273965",
   "metadata": {},
   "outputs": [],
   "source": [
    "height <- c(171.6, 173.6, 167.6, 169.1, 183.0, 173.7, 168.3, 169.9, 182.3, 166.0, 172.8, 184.1, 158.9, 168.1, 168.5, 175.3, 179.6, 170.7, 173.1, 173.6, 169.1, 167.9, 177.8, 171.8, 178.1)"
   ]
  },
  {
   "cell_type": "code",
   "execution_count": 7,
   "id": "944d1478",
   "metadata": {},
   "outputs": [
    {
     "data": {
      "text/plain": [
       "\n",
       "\tOne Sample t-test\n",
       "\n",
       "data:  height\n",
       "t = 2.2036, df = 24, p-value = 0.03739\n",
       "alternative hypothesis: true mean is not equal to 170\n",
       "95 percent confidence interval:\n",
       " 170.1635 174.9965\n",
       "sample estimates:\n",
       "mean of x \n",
       "   172.58 \n"
      ]
     },
     "metadata": {},
     "output_type": "display_data"
    }
   ],
   "source": [
    "t.test(height, mu=170.0)"
   ]
  },
  {
   "cell_type": "code",
   "execution_count": 8,
   "id": "7e65efd5",
   "metadata": {},
   "outputs": [
    {
     "data": {
      "text/plain": [
       "\n",
       "\t1-sample proportions test without continuity correction\n",
       "\n",
       "data:  120 out of 200, null probability 0.6\n",
       "X-squared = 0, df = 1, p-value = 1\n",
       "alternative hypothesis: true p is not equal to 0.6\n",
       "95 percent confidence interval:\n",
       " 0.5308367 0.6653942\n",
       "sample estimates:\n",
       "  p \n",
       "0.6 \n"
      ]
     },
     "metadata": {},
     "output_type": "display_data"
    }
   ],
   "source": [
    "prop.test(120,200,p=0.6)"
   ]
  },
  {
   "cell_type": "code",
   "execution_count": 9,
   "id": "3bff595b",
   "metadata": {},
   "outputs": [
    {
     "data": {
      "text/plain": [
       "\n",
       "\tExact binomial test\n",
       "\n",
       "data:  120 and 200\n",
       "number of successes = 120, number of trials = 200, p-value = 1\n",
       "alternative hypothesis: true probability of success is not equal to 0.6\n",
       "95 percent confidence interval:\n",
       " 0.5285357 0.6684537\n",
       "sample estimates:\n",
       "probability of success \n",
       "                   0.6 \n"
      ]
     },
     "metadata": {},
     "output_type": "display_data"
    }
   ],
   "source": [
    "binom.test(120,200,0.6)"
   ]
  },
  {
   "cell_type": "code",
   "execution_count": null,
   "id": "fb056e5b",
   "metadata": {},
   "outputs": [],
   "source": []
  }
 ],
 "metadata": {
  "kernelspec": {
   "display_name": "R",
   "language": "R",
   "name": "ir"
  },
  "language_info": {
   "codemirror_mode": "r",
   "file_extension": ".r",
   "mimetype": "text/x-r-source",
   "name": "R",
   "pygments_lexer": "r",
   "version": "3.6.1"
  }
 },
 "nbformat": 4,
 "nbformat_minor": 5
}
