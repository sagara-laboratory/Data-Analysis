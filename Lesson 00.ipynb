{
 "cells": [
  {
   "cell_type": "code",
   "execution_count": 1,
   "id": "6fc25e16",
   "metadata": {},
   "outputs": [],
   "source": [
    "demo()"
   ]
  },
  {
   "cell_type": "code",
   "execution_count": 2,
   "id": "7a149b76",
   "metadata": {},
   "outputs": [
    {
     "name": "stdout",
     "output_type": "stream",
     "text": [
      "\n",
      "\n",
      "\tdemo(nlm)\n",
      "\t---- ~~~\n",
      "\n",
      "> #  Copyright (C) 1997-2009, 2017 The R Core Team\n",
      "> \n",
      "> ### Helical Valley Function\n",
      "> ### Page 362 Dennis + Schnabel\n",
      "> \n",
      "> require(stats); require(graphics); require(utils)\n",
      "\n",
      "> theta <- function(x1,x2) (atan(x2/x1) + (if(x1 <= 0) pi else 0))/ (2*pi)\n",
      "\n",
      "> ## but this is easier :\n",
      "> theta <- function(x1,x2) atan2(x2, x1)/(2*pi)\n",
      "\n",
      "> f <- function(x) {\n",
      "+     f1 <- 10*(x[3] - 10*theta(x[1],x[2]))\n",
      "+     f2 <- 10*(sqrt(x[1]^2+x[2]^2)-1)\n",
      "+     f3 <- x[3]\n",
      "+     return(f1^2 + f2^2 + f3^2)\n",
      "+ }\n",
      "\n",
      "> ## explore surface {at x3 = 0}\n",
      "> x <- seq(-1, 2, length.out=50)\n",
      "\n",
      "> y <- seq(-1, 1, length.out=50)\n",
      "\n",
      "> z <- apply(as.matrix(expand.grid(x, y)), 1, function(x) f(c(x, 0)))\n",
      "\n",
      "> contour(x, y, matrix(log10(z), 50, 50))\n",
      "\n",
      "> str(nlm.f <- nlm(f, c(-1,0,0), hessian = TRUE))\n",
      "List of 6\n",
      " $ minimum   : num 1.24e-14\n",
      " $ estimate  : num [1:3] 1.00 3.07e-09 -6.06e-09\n",
      " $ gradient  : num [1:3] -3.76e-07 3.49e-06 -2.20e-06\n",
      " $ hessian   : num [1:3, 1:3] 2.00e+02 -4.07e-02 9.77e-07 -4.07e-02 5.07e+02 ...\n",
      " $ code      : int 2\n",
      " $ iterations: int 27\n",
      "\n",
      "> points(rbind(nlm.f$estim[1:2]), col = \"red\", pch = 20)\n",
      "\n",
      "> stopifnot(all.equal(nlm.f$estimate, c(1, 0, 0)))\n",
      "\n",
      "> ### the Rosenbrock banana valley function\n",
      "> \n",
      "> fR <- function(x)\n",
      "+ {\n",
      "+     x1 <- x[1]; x2 <- x[2]\n",
      "+     100*(x2 - x1*x1)^2 + (1-x1)^2\n",
      "+ }\n",
      "\n",
      "> ## explore surface\n",
      "> fx <- function(x)\n",
      "+ {   ## `vectorized' version of fR()\n",
      "+     x1 <- x[,1]; x2 <- x[,2]\n",
      "+     100*(x2 - x1*x1)^2 + (1-x1)^2\n",
      "+ }\n",
      "\n",
      "> x <- seq(-2, 2, length.out=100)\n",
      "\n",
      "> y <- seq(-0.5, 1.5, length.out=100)\n",
      "\n",
      "> z <- fx(expand.grid(x, y))\n",
      "\n",
      "> op <- par(mfrow = c(2,1), mar = 0.1 + c(3,3,0,0))\n",
      "\n",
      "> contour(x, y, matrix(log10(z), length(x)))\n",
      "\n",
      "> str(nlm.f2 <- nlm(fR, c(-1.2, 1), hessian = TRUE))\n",
      "List of 6\n",
      " $ minimum   : num 3.97e-12\n",
      " $ estimate  : num [1:2] 1 1\n",
      " $ gradient  : num [1:2] -6.54e-07 3.34e-07\n",
      " $ hessian   : num [1:2, 1:2] 802 -400 -400 200\n",
      " $ code      : int 1\n",
      " $ iterations: int 23\n",
      "\n",
      "> points(rbind(nlm.f2$estim[1:2]), col = \"red\", pch = 20)\n",
      "\n",
      "> ## Zoom in :\n",
      "> rect(0.9, 0.9, 1.1, 1.1, border = \"orange\", lwd = 2)\n",
      "\n",
      "> x <- y <- seq(0.9, 1.1, length.out=100)\n",
      "\n",
      "> z <- fx(expand.grid(x, y))\n",
      "\n",
      "> contour(x, y, matrix(log10(z), length(x)))\n"
     ]
    },
    {
     "data": {
      "image/png": "[encoded data removed]",
      "text/plain": [
       "plot without title"
      ]
     },
     "metadata": {},
     "output_type": "display_data"
    },
    {
     "name": "stdout",
     "output_type": "stream",
     "text": [
      "\n",
      "> mtext(\"zoomed in\");box(col = \"orange\")\n",
      "\n",
      "> points(rbind(nlm.f2$estim[1:2]), col = \"red\", pch = 20)\n",
      "\n",
      "> par(op)\n",
      "\n",
      "> with(nlm.f2,\n",
      "+      stopifnot(all.equal(estimate, c(1,1), tol = 1e-5),\n",
      "+                minimum < 1e-11, abs(gradient) < 1e-6, code %in% 1:2))\n",
      "\n",
      "> fg <- function(x)\n",
      "+ {\n",
      "+     gr <- function(x1, x2)\n",
      "+         c(-400*x1*(x2 - x1*x1)-2*(1-x1), 200*(x2 - x1*x1))\n",
      "+     x1 <- x[1]; x2 <- x[2]\n",
      "+     structure(100*(x2 - x1*x1)^2 + (1-x1)^2,\n",
      "+               gradient = gr(x1, x2))\n",
      "+ }\n",
      "\n",
      "> nfg <- nlm(fg, c(-1.2, 1), hessian = TRUE)\n",
      "\n",
      "> str(nfg)\n",
      "List of 6\n",
      " $ minimum   : num 1.18e-20\n",
      " $ estimate  : num [1:2] 1 1\n",
      " $ gradient  : num [1:2] 2.58e-09 -1.20e-09\n",
      " $ hessian   : num [1:2, 1:2] 802 -400 -400 200\n",
      " $ code      : int 1\n",
      " $ iterations: int 24\n",
      "\n",
      "> with(nfg,\n",
      "+      stopifnot(minimum < 1e-17, all.equal(estimate, c(1,1)),\n",
      "+                abs(gradient) < 1e-7, code %in% 1:2))\n",
      "\n",
      "> ## or use deriv to find the derivatives\n",
      "> \n",
      "> fd <- deriv(~ 100*(x2 - x1*x1)^2 + (1-x1)^2, c(\"x1\", \"x2\"))\n",
      "\n",
      "> fdd <- function(x1, x2) {}\n",
      "\n",
      "> body(fdd) <- fd\n",
      "\n",
      "> nlfd <- nlm(function(x) fdd(x[1], x[2]), c(-1.2,1), hessian = TRUE)\n",
      "\n",
      "> str(nlfd)\n",
      "List of 6\n",
      " $ minimum   : num 1.18e-20\n",
      " $ estimate  : num [1:2] 1 1\n",
      " $ gradient  : num [1:2] 2.58e-09 -1.20e-09\n",
      " $ hessian   : num [1:2, 1:2] 802 -400 -400 200\n",
      " $ code      : int 1\n",
      " $ iterations: int 24\n",
      "\n",
      "> with(nlfd,\n",
      "+      stopifnot(minimum < 1e-17, all.equal(estimate, c(1,1)),\n",
      "+                abs(gradient) < 1e-7, code %in% 1:2))\n",
      "\n",
      "> fgh <- function(x)\n",
      "+ {\n",
      "+     gr <- function(x1, x2)\n",
      "+         c(-400*x1*(x2 - x1*x1) - 2*(1-x1), 200*(x2 - x1*x1))\n",
      "+     h <- function(x1, x2) {\n",
      "+         a11 <- 2 - 400*x2 + 1200*x1*x1\n",
      "+         a21 <- -400*x1\n",
      "+         matrix(c(a11, a21, a21, 200), 2, 2)\n",
      "+     }\n",
      "+     x1 <- x[1]; x2 <- x[2]\n",
      "+     structure(100*(x2 - x1*x1)^2 + (1-x1)^2,\n",
      "+               gradient = gr(x1, x2),\n",
      "+               hessian  =  h(x1, x2))\n",
      "+ }\n",
      "\n",
      "> nlfgh <- nlm(fgh, c(-1.2,1), hessian = TRUE)\n",
      "\n",
      "> str(nlfgh)\n",
      "List of 6\n",
      " $ minimum   : num 1.13e-17\n",
      " $ estimate  : num [1:2] 1 1\n",
      " $ gradient  : num [1:2] 1.30e-07 -6.56e-08\n",
      " $ hessian   : num [1:2, 1:2] 802 -400 -400 200\n",
      " $ code      : int 1\n",
      " $ iterations: int 24\n",
      "\n",
      "> ## NB: This did _NOT_ converge for R version <= 3.4.0\n",
      "> with(nlfgh,\n",
      "+      stopifnot(minimum < 1e-15, # see 1.13e-17 .. slightly worse than above\n",
      "+ \t       all.equal(estimate, c(1,1), tol=9e-9), # see 1.236e-9\n",
      "+ \t       abs(gradient) < 7e-7, code %in% 1:2)) # g[1] = 1.3e-7\n"
     ]
    },
    {
     "data": {
      "image/png": "[encoded data removed]",
      "text/plain": [
       "plot without title"
      ]
     },
     "metadata": {},
     "output_type": "display_data"
    }
   ],
   "source": [
    "demo(nlm)"
   ]
  },
  {
   "cell_type": "code",
   "execution_count": 3,
   "id": "c8f4530a",
   "metadata": {},
   "outputs": [
    {
     "data": {
      "text/html": [
       "5"
      ],
      "text/latex": [
       "5"
      ],
      "text/markdown": [
       "5"
      ],
      "text/plain": [
       "[1] 5"
      ]
     },
     "metadata": {},
     "output_type": "display_data"
    }
   ],
   "source": [
    "3+2"
   ]
  },
  {
   "cell_type": "code",
   "execution_count": 4,
   "id": "35fe71c1",
   "metadata": {},
   "outputs": [
    {
     "data": {
      "text/html": [
       "1"
      ],
      "text/latex": [
       "1"
      ],
      "text/markdown": [
       "1"
      ],
      "text/plain": [
       "[1] 1"
      ]
     },
     "metadata": {},
     "output_type": "display_data"
    }
   ],
   "source": [
    "3-2"
   ]
  },
  {
   "cell_type": "code",
   "execution_count": 5,
   "id": "ac5f7c70",
   "metadata": {},
   "outputs": [
    {
     "data": {
      "text/html": [
       "6"
      ],
      "text/latex": [
       "6"
      ],
      "text/markdown": [
       "6"
      ],
      "text/plain": [
       "[1] 6"
      ]
     },
     "metadata": {},
     "output_type": "display_data"
    }
   ],
   "source": [
    "3*2"
   ]
  },
  {
   "cell_type": "code",
   "execution_count": 6,
   "id": "1bc2b7e3",
   "metadata": {},
   "outputs": [
    {
     "data": {
      "text/html": [
       "1.5"
      ],
      "text/latex": [
       "1.5"
      ],
      "text/markdown": [
       "1.5"
      ],
      "text/plain": [
       "[1] 1.5"
      ]
     },
     "metadata": {},
     "output_type": "display_data"
    }
   ],
   "source": [
    "3/2"
   ]
  },
  {
   "cell_type": "code",
   "execution_count": 7,
   "id": "410f055c",
   "metadata": {},
   "outputs": [
    {
     "data": {
      "text/html": [
       "9"
      ],
      "text/latex": [
       "9"
      ],
      "text/markdown": [
       "9"
      ],
      "text/plain": [
       "[1] 9"
      ]
     },
     "metadata": {},
     "output_type": "display_data"
    }
   ],
   "source": [
    "3^2"
   ]
  },
  {
   "cell_type": "code",
   "execution_count": 8,
   "id": "f82b3d07",
   "metadata": {},
   "outputs": [
    {
     "data": {
      "text/html": [
       "1"
      ],
      "text/latex": [
       "1"
      ],
      "text/markdown": [
       "1"
      ],
      "text/plain": [
       "[1] 1"
      ]
     },
     "metadata": {},
     "output_type": "display_data"
    }
   ],
   "source": [
    "6%/%4"
   ]
  },
  {
   "cell_type": "code",
   "execution_count": 9,
   "id": "98862eaa",
   "metadata": {},
   "outputs": [
    {
     "data": {
      "text/html": [
       "2"
      ],
      "text/latex": [
       "2"
      ],
      "text/markdown": [
       "2"
      ],
      "text/plain": [
       "[1] 2"
      ]
     },
     "metadata": {},
     "output_type": "display_data"
    }
   ],
   "source": [
    "6%%4"
   ]
  },
  {
   "cell_type": "code",
   "execution_count": 10,
   "id": "ecd185d8",
   "metadata": {},
   "outputs": [
    {
     "data": {
      "text/html": [
       "3.14159265358979"
      ],
      "text/latex": [
       "3.14159265358979"
      ],
      "text/markdown": [
       "3.14159265358979"
      ],
      "text/plain": [
       "[1] 3.141593"
      ]
     },
     "metadata": {},
     "output_type": "display_data"
    }
   ],
   "source": [
    "pi"
   ]
  },
  {
   "cell_type": "code",
   "execution_count": 11,
   "id": "3df9902a",
   "metadata": {},
   "outputs": [
    {
     "data": {
      "text/html": [
       "1"
      ],
      "text/latex": [
       "1"
      ],
      "text/markdown": [
       "1"
      ],
      "text/plain": [
       "[1] 1"
      ]
     },
     "metadata": {},
     "output_type": "display_data"
    }
   ],
   "source": [
    "sin(pi/2)"
   ]
  },
  {
   "cell_type": "code",
   "execution_count": 12,
   "id": "111f8f01",
   "metadata": {},
   "outputs": [
    {
     "data": {
      "text/html": [
       "1"
      ],
      "text/latex": [
       "1"
      ],
      "text/markdown": [
       "1"
      ],
      "text/plain": [
       "[1] 1"
      ]
     },
     "metadata": {},
     "output_type": "display_data"
    }
   ],
   "source": [
    "sin(3.14159265358979/2)"
   ]
  },
  {
   "cell_type": "code",
   "execution_count": 13,
   "id": "cb1a8059",
   "metadata": {},
   "outputs": [],
   "source": [
    "a = 3\n",
    "b = 4\n",
    "c = a+b"
   ]
  },
  {
   "cell_type": "code",
   "execution_count": 14,
   "id": "d5078e12",
   "metadata": {},
   "outputs": [
    {
     "data": {
      "text/html": [
       "7"
      ],
      "text/latex": [
       "7"
      ],
      "text/markdown": [
       "7"
      ],
      "text/plain": [
       "[1] 7"
      ]
     },
     "metadata": {},
     "output_type": "display_data"
    }
   ],
   "source": [
    "c"
   ]
  },
  {
   "cell_type": "code",
   "execution_count": 15,
   "id": "43d2463f",
   "metadata": {},
   "outputs": [],
   "source": [
    "a = \"2BB1\"\n",
    "b = \"001\""
   ]
  },
  {
   "cell_type": "code",
   "execution_count": 16,
   "id": "3e84c569",
   "metadata": {},
   "outputs": [
    {
     "data": {
      "text/html": [
       "'2BB1-001'"
      ],
      "text/latex": [
       "'2BB1-001'"
      ],
      "text/markdown": [
       "'2BB1-001'"
      ],
      "text/plain": [
       "[1] \"2BB1-001\""
      ]
     },
     "metadata": {},
     "output_type": "display_data"
    }
   ],
   "source": [
    "paste(a,\"-\",b,sep=\"\")"
   ]
  },
  {
   "cell_type": "code",
   "execution_count": 17,
   "id": "3bc83d78",
   "metadata": {},
   "outputs": [],
   "source": [
    "x <- c(1,2,3,4,5,6,7,8,9,10)"
   ]
  },
  {
   "cell_type": "code",
   "execution_count": 18,
   "id": "ea5fc231",
   "metadata": {},
   "outputs": [
    {
     "data": {
      "text/html": [
       "<ol class=list-inline>\n",
       "\t<li>1</li>\n",
       "\t<li>2</li>\n",
       "\t<li>3</li>\n",
       "\t<li>4</li>\n",
       "\t<li>5</li>\n",
       "\t<li>6</li>\n",
       "\t<li>7</li>\n",
       "\t<li>8</li>\n",
       "\t<li>9</li>\n",
       "\t<li>10</li>\n",
       "</ol>\n"
      ],
      "text/latex": [
       "\\begin{enumerate*}\n",
       "\\item 1\n",
       "\\item 2\n",
       "\\item 3\n",
       "\\item 4\n",
       "\\item 5\n",
       "\\item 6\n",
       "\\item 7\n",
       "\\item 8\n",
       "\\item 9\n",
       "\\item 10\n",
       "\\end{enumerate*}\n"
      ],
      "text/markdown": [
       "1. 1\n",
       "2. 2\n",
       "3. 3\n",
       "4. 4\n",
       "5. 5\n",
       "6. 6\n",
       "7. 7\n",
       "8. 8\n",
       "9. 9\n",
       "10. 10\n",
       "\n",
       "\n"
      ],
      "text/plain": [
       " [1]  1  2  3  4  5  6  7  8  9 10"
      ]
     },
     "metadata": {},
     "output_type": "display_data"
    }
   ],
   "source": [
    "x"
   ]
  },
  {
   "cell_type": "code",
   "execution_count": 19,
   "id": "13176da2",
   "metadata": {},
   "outputs": [
    {
     "data": {
      "text/html": [
       "10"
      ],
      "text/latex": [
       "10"
      ],
      "text/markdown": [
       "10"
      ],
      "text/plain": [
       "[1] 10"
      ]
     },
     "metadata": {},
     "output_type": "display_data"
    }
   ],
   "source": [
    "max(x)"
   ]
  },
  {
   "cell_type": "code",
   "execution_count": 20,
   "id": "e393d5ac",
   "metadata": {},
   "outputs": [
    {
     "data": {
      "text/html": [
       "0.9"
      ],
      "text/latex": [
       "0.9"
      ],
      "text/markdown": [
       "0.9"
      ],
      "text/plain": [
       "[1] 0.9"
      ]
     },
     "metadata": {},
     "output_type": "display_data"
    }
   ],
   "source": [
    "min(y)"
   ]
  },
  {
   "cell_type": "code",
   "execution_count": 21,
   "id": "8897b05a",
   "metadata": {},
   "outputs": [
    {
     "data": {
      "text/html": [
       "<ol class=list-inline>\n",
       "\t<li>1</li>\n",
       "\t<li>10</li>\n",
       "</ol>\n"
      ],
      "text/latex": [
       "\\begin{enumerate*}\n",
       "\\item 1\n",
       "\\item 10\n",
       "\\end{enumerate*}\n"
      ],
      "text/markdown": [
       "1. 1\n",
       "2. 10\n",
       "\n",
       "\n"
      ],
      "text/plain": [
       "[1]  1 10"
      ]
     },
     "metadata": {},
     "output_type": "display_data"
    }
   ],
   "source": [
    "range(x)"
   ]
  },
  {
   "cell_type": "code",
   "execution_count": 22,
   "id": "ab4c1f3a",
   "metadata": {},
   "outputs": [
    {
     "data": {
      "text/html": [
       "5.5"
      ],
      "text/latex": [
       "5.5"
      ],
      "text/markdown": [
       "5.5"
      ],
      "text/plain": [
       "[1] 5.5"
      ]
     },
     "metadata": {},
     "output_type": "display_data"
    }
   ],
   "source": [
    "mean(x)"
   ]
  },
  {
   "cell_type": "code",
   "execution_count": 23,
   "id": "a980c12a",
   "metadata": {},
   "outputs": [
    {
     "data": {
      "text/html": [
       "5.5"
      ],
      "text/latex": [
       "5.5"
      ],
      "text/markdown": [
       "5.5"
      ],
      "text/plain": [
       "[1] 5.5"
      ]
     },
     "metadata": {},
     "output_type": "display_data"
    }
   ],
   "source": [
    "median(x)"
   ]
  },
  {
   "cell_type": "code",
   "execution_count": 24,
   "id": "50c76248",
   "metadata": {},
   "outputs": [
    {
     "data": {
      "text/html": [
       "3.02765035409749"
      ],
      "text/latex": [
       "3.02765035409749"
      ],
      "text/markdown": [
       "3.02765035409749"
      ],
      "text/plain": [
       "[1] 3.02765"
      ]
     },
     "metadata": {},
     "output_type": "display_data"
    }
   ],
   "source": [
    "sd(x)"
   ]
  },
  {
   "cell_type": "code",
   "execution_count": 25,
   "id": "e325e987",
   "metadata": {},
   "outputs": [
    {
     "data": {
      "text/html": [
       "9.16666666666667"
      ],
      "text/latex": [
       "9.16666666666667"
      ],
      "text/markdown": [
       "9.16666666666667"
      ],
      "text/plain": [
       "[1] 9.166667"
      ]
     },
     "metadata": {},
     "output_type": "display_data"
    }
   ],
   "source": [
    "var(x)"
   ]
  },
  {
   "cell_type": "code",
   "execution_count": 26,
   "id": "ddee7a5c",
   "metadata": {},
   "outputs": [
    {
     "data": {
      "text/html": [
       "55"
      ],
      "text/latex": [
       "55"
      ],
      "text/markdown": [
       "55"
      ],
      "text/plain": [
       "[1] 55"
      ]
     },
     "metadata": {},
     "output_type": "display_data"
    }
   ],
   "source": [
    "sum(x)"
   ]
  },
  {
   "cell_type": "code",
   "execution_count": 27,
   "id": "2b46d77c",
   "metadata": {},
   "outputs": [
    {
     "data": {
      "text/html": [
       "3628800"
      ],
      "text/latex": [
       "3628800"
      ],
      "text/markdown": [
       "3628800"
      ],
      "text/plain": [
       "[1] 3628800"
      ]
     },
     "metadata": {},
     "output_type": "display_data"
    }
   ],
   "source": [
    "prod(x)"
   ]
  },
  {
   "cell_type": "code",
   "execution_count": 28,
   "id": "f0d5e2f0",
   "metadata": {},
   "outputs": [
    {
     "name": "stdout",
     "output_type": "stream",
     "text": [
      "\n",
      "rgl.sr> #\n",
      "rgl.sr> # volcano example taken from \"persp\"\n",
      "rgl.sr> #\n",
      "rgl.sr> \n",
      "rgl.sr> data(volcano)\n",
      "\n",
      "rgl.sr> y <- 2 * volcano        # Exaggerate the relief\n",
      "\n",
      "rgl.sr> x <- 10 * (1:nrow(y))   # 10 meter spacing (S to N)\n",
      "\n",
      "rgl.sr> z <- 10 * (1:ncol(y))   # 10 meter spacing (E to W)\n",
      "\n",
      "rgl.sr> ylim <- range(y)\n",
      "\n",
      "rgl.sr> ylen <- ylim[2] - ylim[1] + 1\n",
      "\n",
      "rgl.sr> colorlut <- terrain.colors(ylen) # height color lookup table\n",
      "\n",
      "rgl.sr> col <- colorlut[ y - ylim[1] + 1 ] # assign colors to heights for each point\n",
      "\n",
      "rgl.sr> rgl.open()\n",
      "\n",
      "rgl.sr> rgl.surface(x, z, y, color = col, back = \"lines\")\n"
     ]
    }
   ],
   "source": [
    "library(rgl)\n",
    "example(rgl.surface)"
   ]
  },
  {
   "cell_type": "code",
   "execution_count": 29,
   "id": "38e04e18",
   "metadata": {},
   "outputs": [],
   "source": [
    "library(help=\"rgl\")"
   ]
  },
  {
   "cell_type": "code",
   "execution_count": 30,
   "id": "8973037e",
   "metadata": {},
   "outputs": [],
   "source": [
    "detach(\"package:rgl\")"
   ]
  },
  {
   "cell_type": "code",
   "execution_count": 31,
   "id": "3d34092c",
   "metadata": {},
   "outputs": [
    {
     "data": {
      "text/html": [
       "'C:/Users/Owner'"
      ],
      "text/latex": [
       "'C:/Users/Owner'"
      ],
      "text/markdown": [
       "'C:/Users/Owner'"
      ],
      "text/plain": [
       "[1] \"C:/Users/Owner\""
      ]
     },
     "metadata": {},
     "output_type": "display_data"
    }
   ],
   "source": [
    "getwd()"
   ]
  },
  {
   "cell_type": "code",
   "execution_count": 32,
   "id": "64d9c9bf",
   "metadata": {},
   "outputs": [],
   "source": [
    "setwd(\"C:/Users/Owner\")"
   ]
  },
  {
   "cell_type": "code",
   "execution_count": 33,
   "id": "f45c7830",
   "metadata": {},
   "outputs": [],
   "source": [
    "height_m <- read.table(\"height_m.dat\",header=T)"
   ]
  },
  {
   "cell_type": "code",
   "execution_count": 34,
   "id": "48572e19",
   "metadata": {},
   "outputs": [
    {
     "data": {
      "text/html": [
       "<table>\n",
       "<thead><tr><th scope=col>se_m</th></tr></thead>\n",
       "<tbody>\n",
       "\t<tr><td>171.7</td></tr>\n",
       "\t<tr><td>171.4</td></tr>\n",
       "\t<tr><td>171.4</td></tr>\n",
       "\t<tr><td>171.3</td></tr>\n",
       "\t<tr><td>171.2</td></tr>\n",
       "\t<tr><td>171.2</td></tr>\n",
       "\t<tr><td>171.1</td></tr>\n",
       "\t<tr><td>171.1</td></tr>\n",
       "\t<tr><td>171.1</td></tr>\n",
       "\t<tr><td>171.1</td></tr>\n",
       "\t<tr><td>171.0</td></tr>\n",
       "\t<tr><td>171.0</td></tr>\n",
       "\t<tr><td>170.9</td></tr>\n",
       "\t<tr><td>170.9</td></tr>\n",
       "\t<tr><td>170.9</td></tr>\n",
       "\t<tr><td>170.9</td></tr>\n",
       "\t<tr><td>170.9</td></tr>\n",
       "\t<tr><td>170.9</td></tr>\n",
       "\t<tr><td>170.8</td></tr>\n",
       "\t<tr><td>170.8</td></tr>\n",
       "\t<tr><td>170.8</td></tr>\n",
       "\t<tr><td>170.7</td></tr>\n",
       "\t<tr><td>170.7</td></tr>\n",
       "\t<tr><td>170.7</td></tr>\n",
       "\t<tr><td>170.7</td></tr>\n",
       "\t<tr><td>170.7</td></tr>\n",
       "\t<tr><td>170.6</td></tr>\n",
       "\t<tr><td>170.5</td></tr>\n",
       "\t<tr><td>170.4</td></tr>\n",
       "\t<tr><td>170.4</td></tr>\n",
       "\t<tr><td>170.4</td></tr>\n",
       "\t<tr><td>170.3</td></tr>\n",
       "\t<tr><td>170.3</td></tr>\n",
       "\t<tr><td>170.3</td></tr>\n",
       "\t<tr><td>170.2</td></tr>\n",
       "\t<tr><td>170.2</td></tr>\n",
       "\t<tr><td>170.1</td></tr>\n",
       "\t<tr><td>170.1</td></tr>\n",
       "\t<tr><td>170.0</td></tr>\n",
       "\t<tr><td>170.0</td></tr>\n",
       "\t<tr><td>170.0</td></tr>\n",
       "\t<tr><td>170.0</td></tr>\n",
       "\t<tr><td>169.8</td></tr>\n",
       "\t<tr><td>169.8</td></tr>\n",
       "\t<tr><td>169.8</td></tr>\n",
       "\t<tr><td>169.3</td></tr>\n",
       "\t<tr><td>168.8</td></tr>\n",
       "</tbody>\n",
       "</table>\n"
      ],
      "text/latex": [
       "\\begin{tabular}{r|l}\n",
       " se\\_m\\\\\n",
       "\\hline\n",
       "\t 171.7\\\\\n",
       "\t 171.4\\\\\n",
       "\t 171.4\\\\\n",
       "\t 171.3\\\\\n",
       "\t 171.2\\\\\n",
       "\t 171.2\\\\\n",
       "\t 171.1\\\\\n",
       "\t 171.1\\\\\n",
       "\t 171.1\\\\\n",
       "\t 171.1\\\\\n",
       "\t 171.0\\\\\n",
       "\t 171.0\\\\\n",
       "\t 170.9\\\\\n",
       "\t 170.9\\\\\n",
       "\t 170.9\\\\\n",
       "\t 170.9\\\\\n",
       "\t 170.9\\\\\n",
       "\t 170.9\\\\\n",
       "\t 170.8\\\\\n",
       "\t 170.8\\\\\n",
       "\t 170.8\\\\\n",
       "\t 170.7\\\\\n",
       "\t 170.7\\\\\n",
       "\t 170.7\\\\\n",
       "\t 170.7\\\\\n",
       "\t 170.7\\\\\n",
       "\t 170.6\\\\\n",
       "\t 170.5\\\\\n",
       "\t 170.4\\\\\n",
       "\t 170.4\\\\\n",
       "\t 170.4\\\\\n",
       "\t 170.3\\\\\n",
       "\t 170.3\\\\\n",
       "\t 170.3\\\\\n",
       "\t 170.2\\\\\n",
       "\t 170.2\\\\\n",
       "\t 170.1\\\\\n",
       "\t 170.1\\\\\n",
       "\t 170.0\\\\\n",
       "\t 170.0\\\\\n",
       "\t 170.0\\\\\n",
       "\t 170.0\\\\\n",
       "\t 169.8\\\\\n",
       "\t 169.8\\\\\n",
       "\t 169.8\\\\\n",
       "\t 169.3\\\\\n",
       "\t 168.8\\\\\n",
       "\\end{tabular}\n"
      ],
      "text/markdown": [
       "\n",
       "| se_m |\n",
       "|---|\n",
       "| 171.7 |\n",
       "| 171.4 |\n",
       "| 171.4 |\n",
       "| 171.3 |\n",
       "| 171.2 |\n",
       "| 171.2 |\n",
       "| 171.1 |\n",
       "| 171.1 |\n",
       "| 171.1 |\n",
       "| 171.1 |\n",
       "| 171.0 |\n",
       "| 171.0 |\n",
       "| 170.9 |\n",
       "| 170.9 |\n",
       "| 170.9 |\n",
       "| 170.9 |\n",
       "| 170.9 |\n",
       "| 170.9 |\n",
       "| 170.8 |\n",
       "| 170.8 |\n",
       "| 170.8 |\n",
       "| 170.7 |\n",
       "| 170.7 |\n",
       "| 170.7 |\n",
       "| 170.7 |\n",
       "| 170.7 |\n",
       "| 170.6 |\n",
       "| 170.5 |\n",
       "| 170.4 |\n",
       "| 170.4 |\n",
       "| 170.4 |\n",
       "| 170.3 |\n",
       "| 170.3 |\n",
       "| 170.3 |\n",
       "| 170.2 |\n",
       "| 170.2 |\n",
       "| 170.1 |\n",
       "| 170.1 |\n",
       "| 170.0 |\n",
       "| 170.0 |\n",
       "| 170.0 |\n",
       "| 170.0 |\n",
       "| 169.8 |\n",
       "| 169.8 |\n",
       "| 169.8 |\n",
       "| 169.3 |\n",
       "| 168.8 |\n",
       "\n"
      ],
      "text/plain": [
       "   se_m \n",
       "1  171.7\n",
       "2  171.4\n",
       "3  171.4\n",
       "4  171.3\n",
       "5  171.2\n",
       "6  171.2\n",
       "7  171.1\n",
       "8  171.1\n",
       "9  171.1\n",
       "10 171.1\n",
       "11 171.0\n",
       "12 171.0\n",
       "13 170.9\n",
       "14 170.9\n",
       "15 170.9\n",
       "16 170.9\n",
       "17 170.9\n",
       "18 170.9\n",
       "19 170.8\n",
       "20 170.8\n",
       "21 170.8\n",
       "22 170.7\n",
       "23 170.7\n",
       "24 170.7\n",
       "25 170.7\n",
       "26 170.7\n",
       "27 170.6\n",
       "28 170.5\n",
       "29 170.4\n",
       "30 170.4\n",
       "31 170.4\n",
       "32 170.3\n",
       "33 170.3\n",
       "34 170.3\n",
       "35 170.2\n",
       "36 170.2\n",
       "37 170.1\n",
       "38 170.1\n",
       "39 170.0\n",
       "40 170.0\n",
       "41 170.0\n",
       "42 170.0\n",
       "43 169.8\n",
       "44 169.8\n",
       "45 169.8\n",
       "46 169.3\n",
       "47 168.8"
      ]
     },
     "metadata": {},
     "output_type": "display_data"
    }
   ],
   "source": [
    "height_m"
   ]
  },
  {
   "cell_type": "code",
   "execution_count": 35,
   "id": "5c57b2c0",
   "metadata": {},
   "outputs": [],
   "source": [
    "attach(height_m)"
   ]
  },
  {
   "cell_type": "code",
   "execution_count": 36,
   "id": "f0049704",
   "metadata": {},
   "outputs": [
    {
     "data": {
      "text/html": [
       "<ol class=list-inline>\n",
       "\t<li>171.7</li>\n",
       "\t<li>171.4</li>\n",
       "\t<li>171.4</li>\n",
       "\t<li>171.3</li>\n",
       "\t<li>171.2</li>\n",
       "\t<li>171.2</li>\n",
       "\t<li>171.1</li>\n",
       "\t<li>171.1</li>\n",
       "\t<li>171.1</li>\n",
       "\t<li>171.1</li>\n",
       "\t<li>171</li>\n",
       "\t<li>171</li>\n",
       "\t<li>170.9</li>\n",
       "\t<li>170.9</li>\n",
       "\t<li>170.9</li>\n",
       "\t<li>170.9</li>\n",
       "\t<li>170.9</li>\n",
       "\t<li>170.9</li>\n",
       "\t<li>170.8</li>\n",
       "\t<li>170.8</li>\n",
       "\t<li>170.8</li>\n",
       "\t<li>170.7</li>\n",
       "\t<li>170.7</li>\n",
       "\t<li>170.7</li>\n",
       "\t<li>170.7</li>\n",
       "\t<li>170.7</li>\n",
       "\t<li>170.6</li>\n",
       "\t<li>170.5</li>\n",
       "\t<li>170.4</li>\n",
       "\t<li>170.4</li>\n",
       "\t<li>170.4</li>\n",
       "\t<li>170.3</li>\n",
       "\t<li>170.3</li>\n",
       "\t<li>170.3</li>\n",
       "\t<li>170.2</li>\n",
       "\t<li>170.2</li>\n",
       "\t<li>170.1</li>\n",
       "\t<li>170.1</li>\n",
       "\t<li>170</li>\n",
       "\t<li>170</li>\n",
       "\t<li>170</li>\n",
       "\t<li>170</li>\n",
       "\t<li>169.8</li>\n",
       "\t<li>169.8</li>\n",
       "\t<li>169.8</li>\n",
       "\t<li>169.3</li>\n",
       "\t<li>168.8</li>\n",
       "</ol>\n"
      ],
      "text/latex": [
       "\\begin{enumerate*}\n",
       "\\item 171.7\n",
       "\\item 171.4\n",
       "\\item 171.4\n",
       "\\item 171.3\n",
       "\\item 171.2\n",
       "\\item 171.2\n",
       "\\item 171.1\n",
       "\\item 171.1\n",
       "\\item 171.1\n",
       "\\item 171.1\n",
       "\\item 171\n",
       "\\item 171\n",
       "\\item 170.9\n",
       "\\item 170.9\n",
       "\\item 170.9\n",
       "\\item 170.9\n",
       "\\item 170.9\n",
       "\\item 170.9\n",
       "\\item 170.8\n",
       "\\item 170.8\n",
       "\\item 170.8\n",
       "\\item 170.7\n",
       "\\item 170.7\n",
       "\\item 170.7\n",
       "\\item 170.7\n",
       "\\item 170.7\n",
       "\\item 170.6\n",
       "\\item 170.5\n",
       "\\item 170.4\n",
       "\\item 170.4\n",
       "\\item 170.4\n",
       "\\item 170.3\n",
       "\\item 170.3\n",
       "\\item 170.3\n",
       "\\item 170.2\n",
       "\\item 170.2\n",
       "\\item 170.1\n",
       "\\item 170.1\n",
       "\\item 170\n",
       "\\item 170\n",
       "\\item 170\n",
       "\\item 170\n",
       "\\item 169.8\n",
       "\\item 169.8\n",
       "\\item 169.8\n",
       "\\item 169.3\n",
       "\\item 168.8\n",
       "\\end{enumerate*}\n"
      ],
      "text/markdown": [
       "1. 171.7\n",
       "2. 171.4\n",
       "3. 171.4\n",
       "4. 171.3\n",
       "5. 171.2\n",
       "6. 171.2\n",
       "7. 171.1\n",
       "8. 171.1\n",
       "9. 171.1\n",
       "10. 171.1\n",
       "11. 171\n",
       "12. 171\n",
       "13. 170.9\n",
       "14. 170.9\n",
       "15. 170.9\n",
       "16. 170.9\n",
       "17. 170.9\n",
       "18. 170.9\n",
       "19. 170.8\n",
       "20. 170.8\n",
       "21. 170.8\n",
       "22. 170.7\n",
       "23. 170.7\n",
       "24. 170.7\n",
       "25. 170.7\n",
       "26. 170.7\n",
       "27. 170.6\n",
       "28. 170.5\n",
       "29. 170.4\n",
       "30. 170.4\n",
       "31. 170.4\n",
       "32. 170.3\n",
       "33. 170.3\n",
       "34. 170.3\n",
       "35. 170.2\n",
       "36. 170.2\n",
       "37. 170.1\n",
       "38. 170.1\n",
       "39. 170\n",
       "40. 170\n",
       "41. 170\n",
       "42. 170\n",
       "43. 169.8\n",
       "44. 169.8\n",
       "45. 169.8\n",
       "46. 169.3\n",
       "47. 168.8\n",
       "\n",
       "\n"
      ],
      "text/plain": [
       " [1] 171.7 171.4 171.4 171.3 171.2 171.2 171.1 171.1 171.1 171.1 171.0 171.0\n",
       "[13] 170.9 170.9 170.9 170.9 170.9 170.9 170.8 170.8 170.8 170.7 170.7 170.7\n",
       "[25] 170.7 170.7 170.6 170.5 170.4 170.4 170.4 170.3 170.3 170.3 170.2 170.2\n",
       "[37] 170.1 170.1 170.0 170.0 170.0 170.0 169.8 169.8 169.8 169.3 168.8"
      ]
     },
     "metadata": {},
     "output_type": "display_data"
    }
   ],
   "source": [
    "se_m"
   ]
  },
  {
   "cell_type": "code",
   "execution_count": 37,
   "id": "1c7d5b76",
   "metadata": {},
   "outputs": [
    {
     "data": {
      "image/png": "[encoded data removed]",
      "text/plain": [
       "Plot with title \"Histogram of se_m\""
      ]
     },
     "metadata": {},
     "output_type": "display_data"
    }
   ],
   "source": [
    "hist(se_m)"
   ]
  },
  {
   "cell_type": "code",
   "execution_count": 38,
   "id": "f3d218d5",
   "metadata": {},
   "outputs": [],
   "source": [
    "height_f <- read.table(\"height_f.dat\",header=T)"
   ]
  },
  {
   "cell_type": "code",
   "execution_count": 39,
   "id": "9849a26d",
   "metadata": {},
   "outputs": [
    {
     "data": {
      "text/html": [
       "<table>\n",
       "<thead><tr><th scope=col>se_f</th></tr></thead>\n",
       "<tbody>\n",
       "\t<tr><td>158.6</td></tr>\n",
       "\t<tr><td>158.5</td></tr>\n",
       "\t<tr><td>158.5</td></tr>\n",
       "\t<tr><td>158.4</td></tr>\n",
       "\t<tr><td>158.4</td></tr>\n",
       "\t<tr><td>158.3</td></tr>\n",
       "\t<tr><td>158.3</td></tr>\n",
       "\t<tr><td>158.2</td></tr>\n",
       "\t<tr><td>158.2</td></tr>\n",
       "\t<tr><td>158.1</td></tr>\n",
       "\t<tr><td>158.1</td></tr>\n",
       "\t<tr><td>158.1</td></tr>\n",
       "\t<tr><td>158.0</td></tr>\n",
       "\t<tr><td>158.0</td></tr>\n",
       "\t<tr><td>158.0</td></tr>\n",
       "\t<tr><td>158.0</td></tr>\n",
       "\t<tr><td>158.0</td></tr>\n",
       "\t<tr><td>157.9</td></tr>\n",
       "\t<tr><td>157.9</td></tr>\n",
       "\t<tr><td>157.9</td></tr>\n",
       "\t<tr><td>157.9</td></tr>\n",
       "\t<tr><td>157.9</td></tr>\n",
       "\t<tr><td>157.8</td></tr>\n",
       "\t<tr><td>157.8</td></tr>\n",
       "\t<tr><td>157.7</td></tr>\n",
       "\t<tr><td>157.7</td></tr>\n",
       "\t<tr><td>157.7</td></tr>\n",
       "\t<tr><td>157.7</td></tr>\n",
       "\t<tr><td>157.6</td></tr>\n",
       "\t<tr><td>157.6</td></tr>\n",
       "\t<tr><td>157.6</td></tr>\n",
       "\t<tr><td>157.5</td></tr>\n",
       "\t<tr><td>157.5</td></tr>\n",
       "\t<tr><td>157.5</td></tr>\n",
       "\t<tr><td>157.5</td></tr>\n",
       "\t<tr><td>157.5</td></tr>\n",
       "\t<tr><td>157.4</td></tr>\n",
       "\t<tr><td>157.3</td></tr>\n",
       "\t<tr><td>157.2</td></tr>\n",
       "\t<tr><td>157.1</td></tr>\n",
       "\t<tr><td>157.1</td></tr>\n",
       "\t<tr><td>157.1</td></tr>\n",
       "\t<tr><td>157.1</td></tr>\n",
       "\t<tr><td>157.1</td></tr>\n",
       "\t<tr><td>157.0</td></tr>\n",
       "\t<tr><td>156.6</td></tr>\n",
       "\t<tr><td>155.8</td></tr>\n",
       "</tbody>\n",
       "</table>\n"
      ],
      "text/latex": [
       "\\begin{tabular}{r|l}\n",
       " se\\_f\\\\\n",
       "\\hline\n",
       "\t 158.6\\\\\n",
       "\t 158.5\\\\\n",
       "\t 158.5\\\\\n",
       "\t 158.4\\\\\n",
       "\t 158.4\\\\\n",
       "\t 158.3\\\\\n",
       "\t 158.3\\\\\n",
       "\t 158.2\\\\\n",
       "\t 158.2\\\\\n",
       "\t 158.1\\\\\n",
       "\t 158.1\\\\\n",
       "\t 158.1\\\\\n",
       "\t 158.0\\\\\n",
       "\t 158.0\\\\\n",
       "\t 158.0\\\\\n",
       "\t 158.0\\\\\n",
       "\t 158.0\\\\\n",
       "\t 157.9\\\\\n",
       "\t 157.9\\\\\n",
       "\t 157.9\\\\\n",
       "\t 157.9\\\\\n",
       "\t 157.9\\\\\n",
       "\t 157.8\\\\\n",
       "\t 157.8\\\\\n",
       "\t 157.7\\\\\n",
       "\t 157.7\\\\\n",
       "\t 157.7\\\\\n",
       "\t 157.7\\\\\n",
       "\t 157.6\\\\\n",
       "\t 157.6\\\\\n",
       "\t 157.6\\\\\n",
       "\t 157.5\\\\\n",
       "\t 157.5\\\\\n",
       "\t 157.5\\\\\n",
       "\t 157.5\\\\\n",
       "\t 157.5\\\\\n",
       "\t 157.4\\\\\n",
       "\t 157.3\\\\\n",
       "\t 157.2\\\\\n",
       "\t 157.1\\\\\n",
       "\t 157.1\\\\\n",
       "\t 157.1\\\\\n",
       "\t 157.1\\\\\n",
       "\t 157.1\\\\\n",
       "\t 157.0\\\\\n",
       "\t 156.6\\\\\n",
       "\t 155.8\\\\\n",
       "\\end{tabular}\n"
      ],
      "text/markdown": [
       "\n",
       "| se_f |\n",
       "|---|\n",
       "| 158.6 |\n",
       "| 158.5 |\n",
       "| 158.5 |\n",
       "| 158.4 |\n",
       "| 158.4 |\n",
       "| 158.3 |\n",
       "| 158.3 |\n",
       "| 158.2 |\n",
       "| 158.2 |\n",
       "| 158.1 |\n",
       "| 158.1 |\n",
       "| 158.1 |\n",
       "| 158.0 |\n",
       "| 158.0 |\n",
       "| 158.0 |\n",
       "| 158.0 |\n",
       "| 158.0 |\n",
       "| 157.9 |\n",
       "| 157.9 |\n",
       "| 157.9 |\n",
       "| 157.9 |\n",
       "| 157.9 |\n",
       "| 157.8 |\n",
       "| 157.8 |\n",
       "| 157.7 |\n",
       "| 157.7 |\n",
       "| 157.7 |\n",
       "| 157.7 |\n",
       "| 157.6 |\n",
       "| 157.6 |\n",
       "| 157.6 |\n",
       "| 157.5 |\n",
       "| 157.5 |\n",
       "| 157.5 |\n",
       "| 157.5 |\n",
       "| 157.5 |\n",
       "| 157.4 |\n",
       "| 157.3 |\n",
       "| 157.2 |\n",
       "| 157.1 |\n",
       "| 157.1 |\n",
       "| 157.1 |\n",
       "| 157.1 |\n",
       "| 157.1 |\n",
       "| 157.0 |\n",
       "| 156.6 |\n",
       "| 155.8 |\n",
       "\n"
      ],
      "text/plain": [
       "   se_f \n",
       "1  158.6\n",
       "2  158.5\n",
       "3  158.5\n",
       "4  158.4\n",
       "5  158.4\n",
       "6  158.3\n",
       "7  158.3\n",
       "8  158.2\n",
       "9  158.2\n",
       "10 158.1\n",
       "11 158.1\n",
       "12 158.1\n",
       "13 158.0\n",
       "14 158.0\n",
       "15 158.0\n",
       "16 158.0\n",
       "17 158.0\n",
       "18 157.9\n",
       "19 157.9\n",
       "20 157.9\n",
       "21 157.9\n",
       "22 157.9\n",
       "23 157.8\n",
       "24 157.8\n",
       "25 157.7\n",
       "26 157.7\n",
       "27 157.7\n",
       "28 157.7\n",
       "29 157.6\n",
       "30 157.6\n",
       "31 157.6\n",
       "32 157.5\n",
       "33 157.5\n",
       "34 157.5\n",
       "35 157.5\n",
       "36 157.5\n",
       "37 157.4\n",
       "38 157.3\n",
       "39 157.2\n",
       "40 157.1\n",
       "41 157.1\n",
       "42 157.1\n",
       "43 157.1\n",
       "44 157.1\n",
       "45 157.0\n",
       "46 156.6\n",
       "47 155.8"
      ]
     },
     "metadata": {},
     "output_type": "display_data"
    }
   ],
   "source": [
    "height_f"
   ]
  },
  {
   "cell_type": "code",
   "execution_count": 40,
   "id": "95ded9fd",
   "metadata": {},
   "outputs": [],
   "source": [
    "attach(height_f)"
   ]
  },
  {
   "cell_type": "code",
   "execution_count": 41,
   "id": "8cb46818",
   "metadata": {},
   "outputs": [
    {
     "data": {
      "text/html": [
       "<ol class=list-inline>\n",
       "\t<li>158.6</li>\n",
       "\t<li>158.5</li>\n",
       "\t<li>158.5</li>\n",
       "\t<li>158.4</li>\n",
       "\t<li>158.4</li>\n",
       "\t<li>158.3</li>\n",
       "\t<li>158.3</li>\n",
       "\t<li>158.2</li>\n",
       "\t<li>158.2</li>\n",
       "\t<li>158.1</li>\n",
       "\t<li>158.1</li>\n",
       "\t<li>158.1</li>\n",
       "\t<li>158</li>\n",
       "\t<li>158</li>\n",
       "\t<li>158</li>\n",
       "\t<li>158</li>\n",
       "\t<li>158</li>\n",
       "\t<li>157.9</li>\n",
       "\t<li>157.9</li>\n",
       "\t<li>157.9</li>\n",
       "\t<li>157.9</li>\n",
       "\t<li>157.9</li>\n",
       "\t<li>157.8</li>\n",
       "\t<li>157.8</li>\n",
       "\t<li>157.7</li>\n",
       "\t<li>157.7</li>\n",
       "\t<li>157.7</li>\n",
       "\t<li>157.7</li>\n",
       "\t<li>157.6</li>\n",
       "\t<li>157.6</li>\n",
       "\t<li>157.6</li>\n",
       "\t<li>157.5</li>\n",
       "\t<li>157.5</li>\n",
       "\t<li>157.5</li>\n",
       "\t<li>157.5</li>\n",
       "\t<li>157.5</li>\n",
       "\t<li>157.4</li>\n",
       "\t<li>157.3</li>\n",
       "\t<li>157.2</li>\n",
       "\t<li>157.1</li>\n",
       "\t<li>157.1</li>\n",
       "\t<li>157.1</li>\n",
       "\t<li>157.1</li>\n",
       "\t<li>157.1</li>\n",
       "\t<li>157</li>\n",
       "\t<li>156.6</li>\n",
       "\t<li>155.8</li>\n",
       "</ol>\n"
      ],
      "text/latex": [
       "\\begin{enumerate*}\n",
       "\\item 158.6\n",
       "\\item 158.5\n",
       "\\item 158.5\n",
       "\\item 158.4\n",
       "\\item 158.4\n",
       "\\item 158.3\n",
       "\\item 158.3\n",
       "\\item 158.2\n",
       "\\item 158.2\n",
       "\\item 158.1\n",
       "\\item 158.1\n",
       "\\item 158.1\n",
       "\\item 158\n",
       "\\item 158\n",
       "\\item 158\n",
       "\\item 158\n",
       "\\item 158\n",
       "\\item 157.9\n",
       "\\item 157.9\n",
       "\\item 157.9\n",
       "\\item 157.9\n",
       "\\item 157.9\n",
       "\\item 157.8\n",
       "\\item 157.8\n",
       "\\item 157.7\n",
       "\\item 157.7\n",
       "\\item 157.7\n",
       "\\item 157.7\n",
       "\\item 157.6\n",
       "\\item 157.6\n",
       "\\item 157.6\n",
       "\\item 157.5\n",
       "\\item 157.5\n",
       "\\item 157.5\n",
       "\\item 157.5\n",
       "\\item 157.5\n",
       "\\item 157.4\n",
       "\\item 157.3\n",
       "\\item 157.2\n",
       "\\item 157.1\n",
       "\\item 157.1\n",
       "\\item 157.1\n",
       "\\item 157.1\n",
       "\\item 157.1\n",
       "\\item 157\n",
       "\\item 156.6\n",
       "\\item 155.8\n",
       "\\end{enumerate*}\n"
      ],
      "text/markdown": [
       "1. 158.6\n",
       "2. 158.5\n",
       "3. 158.5\n",
       "4. 158.4\n",
       "5. 158.4\n",
       "6. 158.3\n",
       "7. 158.3\n",
       "8. 158.2\n",
       "9. 158.2\n",
       "10. 158.1\n",
       "11. 158.1\n",
       "12. 158.1\n",
       "13. 158\n",
       "14. 158\n",
       "15. 158\n",
       "16. 158\n",
       "17. 158\n",
       "18. 157.9\n",
       "19. 157.9\n",
       "20. 157.9\n",
       "21. 157.9\n",
       "22. 157.9\n",
       "23. 157.8\n",
       "24. 157.8\n",
       "25. 157.7\n",
       "26. 157.7\n",
       "27. 157.7\n",
       "28. 157.7\n",
       "29. 157.6\n",
       "30. 157.6\n",
       "31. 157.6\n",
       "32. 157.5\n",
       "33. 157.5\n",
       "34. 157.5\n",
       "35. 157.5\n",
       "36. 157.5\n",
       "37. 157.4\n",
       "38. 157.3\n",
       "39. 157.2\n",
       "40. 157.1\n",
       "41. 157.1\n",
       "42. 157.1\n",
       "43. 157.1\n",
       "44. 157.1\n",
       "45. 157\n",
       "46. 156.6\n",
       "47. 155.8\n",
       "\n",
       "\n"
      ],
      "text/plain": [
       " [1] 158.6 158.5 158.5 158.4 158.4 158.3 158.3 158.2 158.2 158.1 158.1 158.1\n",
       "[13] 158.0 158.0 158.0 158.0 158.0 157.9 157.9 157.9 157.9 157.9 157.8 157.8\n",
       "[25] 157.7 157.7 157.7 157.7 157.6 157.6 157.6 157.5 157.5 157.5 157.5 157.5\n",
       "[37] 157.4 157.3 157.2 157.1 157.1 157.1 157.1 157.1 157.0 156.6 155.8"
      ]
     },
     "metadata": {},
     "output_type": "display_data"
    }
   ],
   "source": [
    "se_f"
   ]
  },
  {
   "cell_type": "code",
   "execution_count": 42,
   "id": "1a52ab1a",
   "metadata": {},
   "outputs": [
    {
     "data": {
      "image/png": "[encoded data removed]",
      "text/plain": [
       "Plot with title \"Histogram of se_f\""
      ]
     },
     "metadata": {},
     "output_type": "display_data"
    }
   ],
   "source": [
    "hist(se_f)"
   ]
  },
  {
   "cell_type": "code",
   "execution_count": null,
   "id": "9cf16977",
   "metadata": {},
   "outputs": [],
   "source": []
  }
 ],
 "metadata": {
  "kernelspec": {
   "display_name": "R",
   "language": "R",
   "name": "ir"
  },
  "language_info": {
   "codemirror_mode": "r",
   "file_extension": ".r",
   "mimetype": "text/x-r-source",
   "name": "R",
   "pygments_lexer": "r",
   "version": "3.6.1"
  }
 },
 "nbformat": 4,
 "nbformat_minor": 5
}
