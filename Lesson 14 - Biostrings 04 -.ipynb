{
 "cells": [
  {
   "cell_type": "code",
   "execution_count": 1,
   "id": "5eabaa4e",
   "metadata": {},
   "outputs": [
    {
     "name": "stderr",
     "output_type": "stream",
     "text": [
      "Loading required package: BiocGenerics\n",
      "Loading required package: parallel\n",
      "\n",
      "Attaching package: 'BiocGenerics'\n",
      "\n",
      "The following objects are masked from 'package:parallel':\n",
      "\n",
      "    clusterApply, clusterApplyLB, clusterCall, clusterEvalQ,\n",
      "    clusterExport, clusterMap, parApply, parCapply, parLapply,\n",
      "    parLapplyLB, parRapply, parSapply, parSapplyLB\n",
      "\n",
      "The following objects are masked from 'package:stats':\n",
      "\n",
      "    IQR, mad, sd, var, xtabs\n",
      "\n",
      "The following objects are masked from 'package:base':\n",
      "\n",
      "    anyDuplicated, append, as.data.frame, basename, cbind, colnames,\n",
      "    dirname, do.call, duplicated, eval, evalq, Filter, Find, get, grep,\n",
      "    grepl, intersect, is.unsorted, lapply, Map, mapply, match, mget,\n",
      "    order, paste, pmax, pmax.int, pmin, pmin.int, Position, rank,\n",
      "    rbind, Reduce, rownames, sapply, setdiff, sort, table, tapply,\n",
      "    union, unique, unsplit, which, which.max, which.min\n",
      "\n",
      "Loading required package: S4Vectors\n",
      "Warning message:\n",
      "\"package 'S4Vectors' was built under R version 3.6.3\"Loading required package: stats4\n",
      "\n",
      "Attaching package: 'S4Vectors'\n",
      "\n",
      "The following object is masked from 'package:base':\n",
      "\n",
      "    expand.grid\n",
      "\n",
      "Loading required package: IRanges\n",
      "Warning message:\n",
      "\"package 'IRanges' was built under R version 3.6.2\"\n",
      "Attaching package: 'IRanges'\n",
      "\n",
      "The following object is masked from 'package:grDevices':\n",
      "\n",
      "    windows\n",
      "\n",
      "Loading required package: XVector\n",
      "\n",
      "Attaching package: 'Biostrings'\n",
      "\n",
      "The following object is masked from 'package:base':\n",
      "\n",
      "    strsplit\n",
      "\n"
     ]
    }
   ],
   "source": [
    "library(Biostrings)"
   ]
  },
  {
   "cell_type": "code",
   "execution_count": 2,
   "id": "c76a089f",
   "metadata": {},
   "outputs": [],
   "source": [
    "rs_1 <- readDNAStringSet(\"random-seq_1.fasta\", format=\"fasta\")"
   ]
  },
  {
   "cell_type": "code",
   "execution_count": 3,
   "id": "68aa2aba",
   "metadata": {},
   "outputs": [],
   "source": [
    "snf_rs_1 <- alphabetFrequency(rs_1)"
   ]
  },
  {
   "cell_type": "code",
   "execution_count": 4,
   "id": "77d554b1",
   "metadata": {},
   "outputs": [
    {
     "data": {
      "text/html": [
       "<table>\n",
       "<thead><tr><th scope=col>A</th><th scope=col>C</th><th scope=col>G</th><th scope=col>T</th><th scope=col>M</th><th scope=col>R</th><th scope=col>W</th><th scope=col>S</th><th scope=col>Y</th><th scope=col>K</th><th scope=col>V</th><th scope=col>H</th><th scope=col>D</th><th scope=col>B</th><th scope=col>N</th><th scope=col>-</th><th scope=col>+</th><th scope=col>.</th></tr></thead>\n",
       "<tbody>\n",
       "\t<tr><td>13</td><td>12</td><td>15</td><td>10</td><td>0 </td><td>0 </td><td>0 </td><td>0 </td><td>0 </td><td>0 </td><td>0 </td><td>0 </td><td>0 </td><td>0 </td><td>0 </td><td>0 </td><td>0 </td><td>0 </td></tr>\n",
       "</tbody>\n",
       "</table>\n"
      ],
      "text/latex": [
       "\\begin{tabular}{llllllllllllllllll}\n",
       " A & C & G & T & M & R & W & S & Y & K & V & H & D & B & N & - & + & .\\\\\n",
       "\\hline\n",
       "\t 13 & 12 & 15 & 10 & 0  & 0  & 0  & 0  & 0  & 0  & 0  & 0  & 0  & 0  & 0  & 0  & 0  & 0 \\\\\n",
       "\\end{tabular}\n"
      ],
      "text/markdown": [
       "\n",
       "| A | C | G | T | M | R | W | S | Y | K | V | H | D | B | N | - | + | . |\n",
       "|---|---|---|---|---|---|---|---|---|---|---|---|---|---|---|---|---|---|\n",
       "| 13 | 12 | 15 | 10 | 0  | 0  | 0  | 0  | 0  | 0  | 0  | 0  | 0  | 0  | 0  | 0  | 0  | 0  |\n",
       "\n"
      ],
      "text/plain": [
       "     A  C  G  T  M R W S Y K V H D B N - + .\n",
       "[1,] 13 12 15 10 0 0 0 0 0 0 0 0 0 0 0 0 0 0"
      ]
     },
     "metadata": {},
     "output_type": "display_data"
    }
   ],
   "source": [
    "snf_rs_1"
   ]
  },
  {
   "cell_type": "code",
   "execution_count": 5,
   "id": "65a9b0e6",
   "metadata": {},
   "outputs": [],
   "source": [
    "tmp <- cbind(names(rs_1), snf_rs_1)"
   ]
  },
  {
   "cell_type": "code",
   "execution_count": 6,
   "id": "87710a7d",
   "metadata": {},
   "outputs": [],
   "source": [
    "write.table(tmp, \"snf_rs_1.txt\", sep=\"\\t\", append=F, quote=F, row.names=F, col.names=T)"
   ]
  },
  {
   "cell_type": "code",
   "execution_count": 7,
   "id": "d2a17cc5",
   "metadata": {},
   "outputs": [],
   "source": [
    "file.show(\"snf_rs_1.txt\")"
   ]
  },
  {
   "cell_type": "code",
   "execution_count": 8,
   "id": "dd1fdd60",
   "metadata": {},
   "outputs": [],
   "source": [
    "file.edit(\"snf_rs_1.txt\")"
   ]
  },
  {
   "cell_type": "code",
   "execution_count": 9,
   "id": "3cd61595",
   "metadata": {},
   "outputs": [],
   "source": [
    "snf_rs_1_tab <- read.table(\"snf_rs_1.txt\")"
   ]
  },
  {
   "cell_type": "code",
   "execution_count": 10,
   "id": "065e4f23",
   "metadata": {},
   "outputs": [
    {
     "data": {
      "text/html": [
       "<table>\n",
       "<thead><tr><th></th><th scope=col>A</th><th scope=col>C</th><th scope=col>G</th><th scope=col>T</th><th scope=col>M</th><th scope=col>R</th><th scope=col>W</th><th scope=col>S</th><th scope=col>Y</th><th scope=col>K</th><th scope=col>V</th><th scope=col>H</th><th scope=col>D</th><th scope=col>B</th><th scope=col>N</th><th scope=col>X.</th><th scope=col>X..1</th><th scope=col>.</th></tr></thead>\n",
       "<tbody>\n",
       "\t<tr><th scope=row>random-seq_1</th><td>13</td><td>12</td><td>15</td><td>10</td><td>0 </td><td>0 </td><td>0 </td><td>0 </td><td>0 </td><td>0 </td><td>0 </td><td>0 </td><td>0 </td><td>0 </td><td>0 </td><td>0 </td><td>0 </td><td>0 </td></tr>\n",
       "</tbody>\n",
       "</table>\n"
      ],
      "text/latex": [
       "\\begin{tabular}{r|llllllllllllllllll}\n",
       "  & A & C & G & T & M & R & W & S & Y & K & V & H & D & B & N & X. & X..1 & .\\\\\n",
       "\\hline\n",
       "\trandom-seq\\_1 & 13 & 12 & 15 & 10 & 0  & 0  & 0  & 0  & 0  & 0  & 0  & 0  & 0  & 0  & 0  & 0  & 0  & 0 \\\\\n",
       "\\end{tabular}\n"
      ],
      "text/markdown": [
       "\n",
       "| <!--/--> | A | C | G | T | M | R | W | S | Y | K | V | H | D | B | N | X. | X..1 | . |\n",
       "|---|---|---|---|---|---|---|---|---|---|---|---|---|---|---|---|---|---|---|\n",
       "| random-seq_1 | 13 | 12 | 15 | 10 | 0  | 0  | 0  | 0  | 0  | 0  | 0  | 0  | 0  | 0  | 0  | 0  | 0  | 0  |\n",
       "\n"
      ],
      "text/plain": [
       "             A  C  G  T  M R W S Y K V H D B N X. X..1 .\n",
       "random-seq_1 13 12 15 10 0 0 0 0 0 0 0 0 0 0 0 0  0    0"
      ]
     },
     "metadata": {},
     "output_type": "display_data"
    }
   ],
   "source": [
    "snf_rs_1_tab"
   ]
  },
  {
   "cell_type": "code",
   "execution_count": 11,
   "id": "e8ce003a",
   "metadata": {},
   "outputs": [],
   "source": [
    "dnf_rs_1 <- dinucleotideFrequency(rs_1)"
   ]
  },
  {
   "cell_type": "code",
   "execution_count": 12,
   "id": "a847bfdb",
   "metadata": {},
   "outputs": [
    {
     "data": {
      "text/html": [
       "<table>\n",
       "<thead><tr><th scope=col>AA</th><th scope=col>AC</th><th scope=col>AG</th><th scope=col>AT</th><th scope=col>CA</th><th scope=col>CC</th><th scope=col>CG</th><th scope=col>CT</th><th scope=col>GA</th><th scope=col>GC</th><th scope=col>GG</th><th scope=col>GT</th><th scope=col>TA</th><th scope=col>TC</th><th scope=col>TG</th><th scope=col>TT</th></tr></thead>\n",
       "<tbody>\n",
       "\t<tr><td>6</td><td>3</td><td>2</td><td>2</td><td>2</td><td>3</td><td>2</td><td>5</td><td>4</td><td>2</td><td>5</td><td>3</td><td>1</td><td>4</td><td>5</td><td>0</td></tr>\n",
       "</tbody>\n",
       "</table>\n"
      ],
      "text/latex": [
       "\\begin{tabular}{llllllllllllllll}\n",
       " AA & AC & AG & AT & CA & CC & CG & CT & GA & GC & GG & GT & TA & TC & TG & TT\\\\\n",
       "\\hline\n",
       "\t 6 & 3 & 2 & 2 & 2 & 3 & 2 & 5 & 4 & 2 & 5 & 3 & 1 & 4 & 5 & 0\\\\\n",
       "\\end{tabular}\n"
      ],
      "text/markdown": [
       "\n",
       "| AA | AC | AG | AT | CA | CC | CG | CT | GA | GC | GG | GT | TA | TC | TG | TT |\n",
       "|---|---|---|---|---|---|---|---|---|---|---|---|---|---|---|---|\n",
       "| 6 | 3 | 2 | 2 | 2 | 3 | 2 | 5 | 4 | 2 | 5 | 3 | 1 | 4 | 5 | 0 |\n",
       "\n"
      ],
      "text/plain": [
       "     AA AC AG AT CA CC CG CT GA GC GG GT TA TC TG TT\n",
       "[1,] 6  3  2  2  2  3  2  5  4  2  5  3  1  4  5  0 "
      ]
     },
     "metadata": {},
     "output_type": "display_data"
    }
   ],
   "source": [
    "dnf_rs_1"
   ]
  },
  {
   "cell_type": "code",
   "execution_count": 13,
   "id": "96c3ca22",
   "metadata": {},
   "outputs": [],
   "source": [
    "tmp <- cbind(names(rs_1), dnf_rs_1)"
   ]
  },
  {
   "cell_type": "code",
   "execution_count": 14,
   "id": "4eb79428",
   "metadata": {},
   "outputs": [],
   "source": [
    "write.table(tmp, \"dnf_rs_1.txt\", sep=\"\\t\", append=F, quote=F, row.names=F, col.names=T)"
   ]
  },
  {
   "cell_type": "code",
   "execution_count": 15,
   "id": "a382d919",
   "metadata": {},
   "outputs": [],
   "source": [
    "tnf_rs_1 <- trinucleotideFrequency(rs_1)"
   ]
  },
  {
   "cell_type": "code",
   "execution_count": 16,
   "id": "6052a195",
   "metadata": {},
   "outputs": [
    {
     "data": {
      "text/html": [
       "<table>\n",
       "<thead><tr><th scope=col>AAA</th><th scope=col>AAC</th><th scope=col>AAG</th><th scope=col>AAT</th><th scope=col>ACA</th><th scope=col>ACC</th><th scope=col>ACG</th><th scope=col>ACT</th><th scope=col>AGA</th><th scope=col>AGC</th><th scope=col>...</th><th scope=col>TCG</th><th scope=col>TCT</th><th scope=col>TGA</th><th scope=col>TGC</th><th scope=col>TGG</th><th scope=col>TGT</th><th scope=col>TTA</th><th scope=col>TTC</th><th scope=col>TTG</th><th scope=col>TTT</th></tr></thead>\n",
       "<tbody>\n",
       "\t<tr><td>2  </td><td>1  </td><td>2  </td><td>1  </td><td>0  </td><td>1  </td><td>0  </td><td>2  </td><td>0  </td><td>0  </td><td>...</td><td>0  </td><td>1  </td><td>0  </td><td>0  </td><td>2  </td><td>2  </td><td>0  </td><td>0  </td><td>0  </td><td>0  </td></tr>\n",
       "</tbody>\n",
       "</table>\n"
      ],
      "text/latex": [
       "\\begin{tabular}{llllllllllllllllllllllllllllllllllllllllllllllllllllllllllllllll}\n",
       " AAA & AAC & AAG & AAT & ACA & ACC & ACG & ACT & AGA & AGC & ... & TCG & TCT & TGA & TGC & TGG & TGT & TTA & TTC & TTG & TTT\\\\\n",
       "\\hline\n",
       "\t 2   & 1   & 2   & 1   & 0   & 1   & 0   & 2   & 0   & 0   & ... & 0   & 1   & 0   & 0   & 2   & 2   & 0   & 0   & 0   & 0  \\\\\n",
       "\\end{tabular}\n"
      ],
      "text/markdown": [
       "\n",
       "| AAA | AAC | AAG | AAT | ACA | ACC | ACG | ACT | AGA | AGC | ... | TCG | TCT | TGA | TGC | TGG | TGT | TTA | TTC | TTG | TTT |\n",
       "|---|---|---|---|---|---|---|---|---|---|---|---|---|---|---|---|---|---|---|---|---|\n",
       "| 2   | 1   | 2   | 1   | 0   | 1   | 0   | 2   | 0   | 0   | ... | 0   | 1   | 0   | 0   | 2   | 2   | 0   | 0   | 0   | 0   |\n",
       "\n"
      ],
      "text/plain": [
       "     AAA AAC AAG AAT ACA ACC ACG ACT AGA AGC ... TCG TCT TGA TGC TGG TGT TTA\n",
       "[1,] 2   1   2   1   0   1   0   2   0   0   ... 0   1   0   0   2   2   0  \n",
       "     TTC TTG TTT\n",
       "[1,] 0   0   0  "
      ]
     },
     "metadata": {},
     "output_type": "display_data"
    }
   ],
   "source": [
    "tnf_rs_1"
   ]
  },
  {
   "cell_type": "code",
   "execution_count": 17,
   "id": "668ac5c8",
   "metadata": {},
   "outputs": [],
   "source": [
    "tmp <- cbind(names(rs_1), tnf_rs_1)"
   ]
  },
  {
   "cell_type": "code",
   "execution_count": 18,
   "id": "890f283f",
   "metadata": {},
   "outputs": [],
   "source": [
    "write.table(tmp, \"tnf_rs_1.txt\", sep=\"\\t\", append=F, quote=F, row.names=F, col.names=T)"
   ]
  },
  {
   "cell_type": "code",
   "execution_count": 19,
   "id": "cfba2ad2",
   "metadata": {},
   "outputs": [],
   "source": [
    "onf_rs_1 <- oligonucleotideFrequency(rs_1, width=4)"
   ]
  },
  {
   "cell_type": "code",
   "execution_count": 20,
   "id": "f19227d6",
   "metadata": {},
   "outputs": [
    {
     "data": {
      "text/html": [
       "<table>\n",
       "<thead><tr><th scope=col>AAAA</th><th scope=col>AAAC</th><th scope=col>AAAG</th><th scope=col>AAAT</th><th scope=col>AACA</th><th scope=col>AACC</th><th scope=col>AACG</th><th scope=col>AACT</th><th scope=col>AAGA</th><th scope=col>AAGC</th><th scope=col>...</th><th scope=col>TTCG</th><th scope=col>TTCT</th><th scope=col>TTGA</th><th scope=col>TTGC</th><th scope=col>TTGG</th><th scope=col>TTGT</th><th scope=col>TTTA</th><th scope=col>TTTC</th><th scope=col>TTTG</th><th scope=col>TTTT</th></tr></thead>\n",
       "<tbody>\n",
       "\t<tr><td>1  </td><td>0  </td><td>1  </td><td>0  </td><td>0  </td><td>1  </td><td>0  </td><td>0  </td><td>0  </td><td>0  </td><td>...</td><td>0  </td><td>0  </td><td>0  </td><td>0  </td><td>0  </td><td>0  </td><td>0  </td><td>0  </td><td>0  </td><td>0  </td></tr>\n",
       "</tbody>\n",
       "</table>\n"
      ],
      "text/latex": [
       "\\begin{tabular}{llllllllllllllllllllllllllllllllllllllllllllllllllllllllllllllllllllllllllllllllllllllllllllllllllllllllllllllllllllllllllllllllllllllllllllllllllllllllllllllllllllllllllllllllllllllllllllllllllllllllllllllllllllllllllllllllllllllllllllllllllllllllllllllll}\n",
       " AAAA & AAAC & AAAG & AAAT & AACA & AACC & AACG & AACT & AAGA & AAGC & ... & TTCG & TTCT & TTGA & TTGC & TTGG & TTGT & TTTA & TTTC & TTTG & TTTT\\\\\n",
       "\\hline\n",
       "\t 1   & 0   & 1   & 0   & 0   & 1   & 0   & 0   & 0   & 0   & ... & 0   & 0   & 0   & 0   & 0   & 0   & 0   & 0   & 0   & 0  \\\\\n",
       "\\end{tabular}\n"
      ],
      "text/markdown": [
       "\n",
       "| AAAA | AAAC | AAAG | AAAT | AACA | AACC | AACG | AACT | AAGA | AAGC | ... | TTCG | TTCT | TTGA | TTGC | TTGG | TTGT | TTTA | TTTC | TTTG | TTTT |\n",
       "|---|---|---|---|---|---|---|---|---|---|---|---|---|---|---|---|---|---|---|---|---|\n",
       "| 1   | 0   | 1   | 0   | 0   | 1   | 0   | 0   | 0   | 0   | ... | 0   | 0   | 0   | 0   | 0   | 0   | 0   | 0   | 0   | 0   |\n",
       "\n"
      ],
      "text/plain": [
       "     AAAA AAAC AAAG AAAT AACA AACC AACG AACT AAGA AAGC ... TTCG TTCT TTGA TTGC\n",
       "[1,] 1    0    1    0    0    1    0    0    0    0    ... 0    0    0    0   \n",
       "     TTGG TTGT TTTA TTTC TTTG TTTT\n",
       "[1,] 0    0    0    0    0    0   "
      ]
     },
     "metadata": {},
     "output_type": "display_data"
    }
   ],
   "source": [
    "onf_rs_1"
   ]
  },
  {
   "cell_type": "code",
   "execution_count": 21,
   "id": "acf66472",
   "metadata": {},
   "outputs": [],
   "source": [
    "tmp <- cbind(names(rs_1), onf_rs_1)"
   ]
  },
  {
   "cell_type": "code",
   "execution_count": 22,
   "id": "46ea5e98",
   "metadata": {},
   "outputs": [
    {
     "ename": "ERROR",
     "evalue": "Error in parse(text = x, srcfile = src): <text>:1:18:  想定外の入力です \n1: write.table(tmp, ―n                     ^\n",
     "output_type": "error",
     "traceback": [
      "Error in parse(text = x, srcfile = src): <text>:1:18:  想定外の入力です \n1: write.table(tmp, ―n                     ^\nTraceback:\n"
     ]
    }
   ],
   "source": [
    "write.table(tmp, ”onf_rs_1.txt\" sep=\"\\t\", append=F, quote=F, row.names=F, col.names=T)"
   ]
  },
  {
   "cell_type": "code",
   "execution_count": null,
   "id": "b2d4ccae",
   "metadata": {},
   "outputs": [],
   "source": []
  }
 ],
 "metadata": {
  "kernelspec": {
   "display_name": "R",
   "language": "R",
   "name": "ir"
  },
  "language_info": {
   "codemirror_mode": "r",
   "file_extension": ".r",
   "mimetype": "text/x-r-source",
   "name": "R",
   "pygments_lexer": "r",
   "version": "3.6.1"
  }
 },
 "nbformat": 4,
 "nbformat_minor": 5
}
