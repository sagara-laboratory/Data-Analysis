{
 "cells": [
  {
   "cell_type": "code",
   "execution_count": 1,
   "id": "1a022666",
   "metadata": {},
   "outputs": [
    {
     "name": "stderr",
     "output_type": "stream",
     "text": [
      "Loading required package: BiocGenerics\n",
      "Loading required package: parallel\n",
      "\n",
      "Attaching package: 'BiocGenerics'\n",
      "\n",
      "The following objects are masked from 'package:parallel':\n",
      "\n",
      "    clusterApply, clusterApplyLB, clusterCall, clusterEvalQ,\n",
      "    clusterExport, clusterMap, parApply, parCapply, parLapply,\n",
      "    parLapplyLB, parRapply, parSapply, parSapplyLB\n",
      "\n",
      "The following objects are masked from 'package:stats':\n",
      "\n",
      "    IQR, mad, sd, var, xtabs\n",
      "\n",
      "The following objects are masked from 'package:base':\n",
      "\n",
      "    anyDuplicated, append, as.data.frame, basename, cbind, colnames,\n",
      "    dirname, do.call, duplicated, eval, evalq, Filter, Find, get, grep,\n",
      "    grepl, intersect, is.unsorted, lapply, Map, mapply, match, mget,\n",
      "    order, paste, pmax, pmax.int, pmin, pmin.int, Position, rank,\n",
      "    rbind, Reduce, rownames, sapply, setdiff, sort, table, tapply,\n",
      "    union, unique, unsplit, which, which.max, which.min\n",
      "\n",
      "Loading required package: S4Vectors\n",
      "Warning message:\n",
      "\"package 'S4Vectors' was built under R version 3.6.3\"Loading required package: stats4\n",
      "\n",
      "Attaching package: 'S4Vectors'\n",
      "\n",
      "The following object is masked from 'package:base':\n",
      "\n",
      "    expand.grid\n",
      "\n",
      "Loading required package: IRanges\n",
      "Warning message:\n",
      "\"package 'IRanges' was built under R version 3.6.2\"\n",
      "Attaching package: 'IRanges'\n",
      "\n",
      "The following object is masked from 'package:grDevices':\n",
      "\n",
      "    windows\n",
      "\n",
      "Loading required package: XVector\n",
      "\n",
      "Attaching package: 'Biostrings'\n",
      "\n",
      "The following object is masked from 'package:base':\n",
      "\n",
      "    strsplit\n",
      "\n"
     ]
    }
   ],
   "source": [
    "library(Biostrings)"
   ]
  },
  {
   "cell_type": "code",
   "execution_count": 2,
   "id": "eaeb3e46",
   "metadata": {},
   "outputs": [],
   "source": [
    "rs_1 <- readDNAStringSet(\"random-seq_1.fasta\", format=\"fasta\")"
   ]
  },
  {
   "cell_type": "code",
   "execution_count": 3,
   "id": "d70c8b78",
   "metadata": {},
   "outputs": [
    {
     "data": {
      "text/plain": [
       "  A DNAStringSet instance of length 1\n",
       "    width seq                                               names               \n",
       "[1]    50 GTCCCTCAAAAGGATCTAAGGGC...GTGGACTGGACTCAACCGCTGTG random-seq_1"
      ]
     },
     "metadata": {},
     "output_type": "display_data"
    }
   ],
   "source": [
    "rs_1"
   ]
  },
  {
   "cell_type": "code",
   "execution_count": 4,
   "id": "a91ecdde",
   "metadata": {},
   "outputs": [],
   "source": [
    "rs_1_char <- as.character(rs_1)\n"
   ]
  },
  {
   "cell_type": "code",
   "execution_count": 5,
   "id": "1ca809fd",
   "metadata": {},
   "outputs": [],
   "source": [
    "substring(rs_1_char, 5, 5) <- \"G\""
   ]
  },
  {
   "cell_type": "code",
   "execution_count": 6,
   "id": "9f92487e",
   "metadata": {},
   "outputs": [],
   "source": [
    "rs_1_new <- DNAStringSet(rs_1_char)"
   ]
  },
  {
   "cell_type": "code",
   "execution_count": 7,
   "id": "5c122550",
   "metadata": {},
   "outputs": [],
   "source": [
    "names(rs_1_new ) <- names(rs_1)"
   ]
  },
  {
   "cell_type": "code",
   "execution_count": 8,
   "id": "6c05886b",
   "metadata": {},
   "outputs": [
    {
     "data": {
      "text/plain": [
       "  A DNAStringSet instance of length 1\n",
       "    width seq                                               names               \n",
       "[1]    50 GTCCGTCAAAAGGATCTAAGGGC...GTGGACTGGACTCAACCGCTGTG random-seq_1"
      ]
     },
     "metadata": {},
     "output_type": "display_data"
    }
   ],
   "source": [
    "rs_1_new"
   ]
  },
  {
   "cell_type": "code",
   "execution_count": null,
   "id": "8f76a9d5",
   "metadata": {},
   "outputs": [],
   "source": []
  }
 ],
 "metadata": {
  "kernelspec": {
   "display_name": "R",
   "language": "R",
   "name": "ir"
  },
  "language_info": {
   "codemirror_mode": "r",
   "file_extension": ".r",
   "mimetype": "text/x-r-source",
   "name": "R",
   "pygments_lexer": "r",
   "version": "3.6.1"
  }
 },
 "nbformat": 4,
 "nbformat_minor": 5
}
