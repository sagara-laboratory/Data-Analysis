{
 "cells": [
  {
   "cell_type": "code",
   "execution_count": 1,
   "id": "998bcd27",
   "metadata": {},
   "outputs": [],
   "source": [
    "JustTen <- function(x,y){\n",
    "z = x +y\n",
    "print(z)\n",
    "if(z==10){\n",
    "print(\"10です\")\n",
    "}else{\n",
    "print(\"10ではありません\")\n",
    "}\n",
    "}"
   ]
  },
  {
   "cell_type": "code",
   "execution_count": 2,
   "id": "5fd8d598",
   "metadata": {},
   "outputs": [
    {
     "name": "stdout",
     "output_type": "stream",
     "text": [
      "[1] 9\n",
      "[1] \"10ではありません\"\n"
     ]
    }
   ],
   "source": [
    "JustTen(2,7)"
   ]
  },
  {
   "cell_type": "code",
   "execution_count": 3,
   "id": "d5784ff0",
   "metadata": {},
   "outputs": [
    {
     "name": "stdout",
     "output_type": "stream",
     "text": [
      "[1] 10\n",
      "[1] \"10です\"\n"
     ]
    }
   ],
   "source": [
    "JustTen(2,8)"
   ]
  },
  {
   "cell_type": "code",
   "execution_count": 4,
   "id": "c969b291",
   "metadata": {},
   "outputs": [
    {
     "name": "stdout",
     "output_type": "stream",
     "text": [
      "[1] 11\n",
      "[1] \"10ではありません\"\n"
     ]
    }
   ],
   "source": [
    "JustTen(2,9)"
   ]
  },
  {
   "cell_type": "code",
   "execution_count": 5,
   "id": "2219cbdc",
   "metadata": {},
   "outputs": [],
   "source": [
    "JustTen2 <- function(x,y){\n",
    "z = x + y\n",
    "print(z)\n",
    "if(z==10){\n",
    "print(\"10です\", quote=F)\n",
    "}else{\n",
    "print(\"10ではありません\", quote=F)\n",
    "}\n",
    "}"
   ]
  },
  {
   "cell_type": "code",
   "execution_count": 6,
   "id": "9dc8009f",
   "metadata": {},
   "outputs": [
    {
     "name": "stdout",
     "output_type": "stream",
     "text": [
      "[1] 9\n",
      "[1] 10ではありません\n"
     ]
    }
   ],
   "source": [
    "JustTen2(2,7)"
   ]
  },
  {
   "cell_type": "code",
   "execution_count": 7,
   "id": "6116334a",
   "metadata": {},
   "outputs": [
    {
     "name": "stdout",
     "output_type": "stream",
     "text": [
      "[1] 10\n",
      "[1] \"10です\"\n"
     ]
    }
   ],
   "source": [
    "JustTen(2,8)"
   ]
  },
  {
   "cell_type": "code",
   "execution_count": 8,
   "id": "eba71480",
   "metadata": {},
   "outputs": [
    {
     "name": "stdout",
     "output_type": "stream",
     "text": [
      "[1] 11\n",
      "[1] \"10ではありません\"\n"
     ]
    }
   ],
   "source": [
    "JustTen(2,9)"
   ]
  },
  {
   "cell_type": "code",
   "execution_count": 9,
   "id": "b79b692d",
   "metadata": {},
   "outputs": [
    {
     "name": "stdout",
     "output_type": "stream",
     "text": [
      "10です[1] 10ではありません\n"
     ]
    }
   ],
   "source": [
    "JustTen3 <- function(x,y){\n",
    "z = x + y\n",
    "if(z==10){\n",
    "cat(\"10です\")\n",
    "}else{\n",
    "print(\"10ではありません\", quote=F)\n",
    "}}\n",
    "JustTen3(2,8)\n",
    "JustTen3(2,9)"
   ]
  },
  {
   "cell_type": "code",
   "execution_count": 10,
   "id": "8c41ea51",
   "metadata": {},
   "outputs": [
    {
     "name": "stdout",
     "output_type": "stream",
     "text": [
      "10\tです[1] 10ではありません\n"
     ]
    }
   ],
   "source": [
    "JustTen3 <- function(x,y){\n",
    "z = x + y;\n",
    "if(z==10){\n",
    "cat(\"10\\tです\") \n",
    "}else{\n",
    "print(\"10ではありません\", quote=F)\n",
    "}}\n",
    "JustTen3(2,8)\n",
    "JustTen3(2,9)"
   ]
  },
  {
   "cell_type": "code",
   "execution_count": 11,
   "id": "b7180e4b",
   "metadata": {},
   "outputs": [
    {
     "name": "stdout",
     "output_type": "stream",
     "text": [
      "10です\n",
      "[1] 10ではありません\n"
     ]
    }
   ],
   "source": [
    "JustTen3 <- function(x,y){\n",
    "z = x + y;\n",
    "if(z==10){\n",
    "cat(\"10です\\n\") \n",
    "}else{\n",
    "print(\"10ではありません\", quote=F)\n",
    "}}\n",
    "JustTen3(2,8)\n",
    "JustTen3(2,9)"
   ]
  },
  {
   "cell_type": "code",
   "execution_count": 12,
   "id": "364cec5e",
   "metadata": {},
   "outputs": [
    {
     "name": "stdout",
     "output_type": "stream",
     "text": [
      "[1] \"10です\\n\"\n",
      "[1] 10ではありません\n"
     ]
    }
   ],
   "source": [
    "JustTen3 <- function(x,y){\n",
    "z = x + y;\n",
    "if(z==10){\n",
    "print(\"10です\\n\") \n",
    "}else{\n",
    "print(\"10ではありません\", quote=F)\n",
    "}}\n",
    "JustTen3(2,8)\n",
    "JustTen3(2,9)"
   ]
  },
  {
   "cell_type": "code",
   "execution_count": 13,
   "id": "a0cda355",
   "metadata": {},
   "outputs": [
    {
     "data": {
      "text/html": [
       "'10です。'"
      ],
      "text/latex": [
       "'10です。'"
      ],
      "text/markdown": [
       "'10です。'"
      ],
      "text/plain": [
       "[1] \"10です。\""
      ]
     },
     "metadata": {},
     "output_type": "display_data"
    },
    {
     "name": "stdout",
     "output_type": "stream",
     "text": [
      "[1] 10ではありません\n"
     ]
    }
   ],
   "source": [
    "JustTen3 <- function(x,y){\n",
    "z = x + y;\n",
    "if(z==10){\n",
    "sprintf(\"%dです。\", 10)\n",
    "}else{\n",
    "print(\"10ではありません\", quote=F)\n",
    "}}\n",
    "JustTen3(2,8)\n",
    "JustTen3(2,9)"
   ]
  },
  {
   "cell_type": "code",
   "execution_count": 14,
   "id": "ceb8205b",
   "metadata": {},
   "outputs": [
    {
     "data": {
      "text/html": [
       "'10.0です。'"
      ],
      "text/latex": [
       "'10.0です。'"
      ],
      "text/markdown": [
       "'10.0です。'"
      ],
      "text/plain": [
       "[1] \"10.0です。\""
      ]
     },
     "metadata": {},
     "output_type": "display_data"
    },
    {
     "name": "stdout",
     "output_type": "stream",
     "text": [
      "[1] 10ではありません\n"
     ]
    }
   ],
   "source": [
    "JustTen3 <- function(x,y){\n",
    "z = x + y;\n",
    "if(z==10){\n",
    "sprintf(\"%3.1fです。\", 10)\n",
    "}else{\n",
    "print(\"10ではありません\", quote=F)\n",
    "}}\n",
    "JustTen3(2,8)\n",
    "JustTen3(2,9)"
   ]
  },
  {
   "cell_type": "code",
   "execution_count": 15,
   "id": "a8cacc4f",
   "metadata": {},
   "outputs": [
    {
     "data": {
      "text/html": [
       "'10.00です。'"
      ],
      "text/latex": [
       "'10.00です。'"
      ],
      "text/markdown": [
       "'10.00です。'"
      ],
      "text/plain": [
       "[1] \"10.00です。\""
      ]
     },
     "metadata": {},
     "output_type": "display_data"
    },
    {
     "name": "stdout",
     "output_type": "stream",
     "text": [
      "[1] 10ではありません\n"
     ]
    }
   ],
   "source": [
    "JustTen3 <- function(x,y){\n",
    "z = x + y;\n",
    "if(z==10){\n",
    "sprintf(\"%3.2fです。\", 10)\n",
    "}else{\n",
    "print(\"10ではありません\", quote=F)\n",
    "}}\n",
    "JustTen3(2,8)\n",
    "JustTen3(2,9)"
   ]
  },
  {
   "cell_type": "code",
   "execution_count": 16,
   "id": "7c68af53",
   "metadata": {},
   "outputs": [
    {
     "data": {
      "text/html": [
       "'KOUDAI'"
      ],
      "text/latex": [
       "'KOUDAI'"
      ],
      "text/markdown": [
       "'KOUDAI'"
      ],
      "text/plain": [
       "[1] \"KOUDAI\""
      ]
     },
     "metadata": {},
     "output_type": "display_data"
    }
   ],
   "source": [
    "sprintf(\"%s\", \"KOUDAI\")"
   ]
  },
  {
   "cell_type": "code",
   "execution_count": 17,
   "id": "47bc9a08",
   "metadata": {},
   "outputs": [
    {
     "data": {
      "text/html": [
       "'KOU'"
      ],
      "text/latex": [
       "'KOU'"
      ],
      "text/markdown": [
       "'KOU'"
      ],
      "text/plain": [
       "[1] \"KOU\""
      ]
     },
     "metadata": {},
     "output_type": "display_data"
    }
   ],
   "source": [
    "sprintf(\"%.3s\", \"KOUDAI\")"
   ]
  },
  {
   "cell_type": "code",
   "execution_count": 18,
   "id": "f868bb31",
   "metadata": {},
   "outputs": [
    {
     "data": {
      "text/html": [
       "' KOUDAI'"
      ],
      "text/latex": [
       "' KOUDAI'"
      ],
      "text/markdown": [
       "' KOUDAI'"
      ],
      "text/plain": [
       "[1] \" KOUDAI\""
      ]
     },
     "metadata": {},
     "output_type": "display_data"
    }
   ],
   "source": [
    "sprintf(\"%7s\", \"KOUDAI\")"
   ]
  },
  {
   "cell_type": "code",
   "execution_count": 19,
   "id": "31d159a5",
   "metadata": {},
   "outputs": [
    {
     "data": {
      "text/html": [
       "'KOUDAI'"
      ],
      "text/latex": [
       "'KOUDAI'"
      ],
      "text/markdown": [
       "'KOUDAI'"
      ],
      "text/plain": [
       "[1] \"KOUDAI\""
      ]
     },
     "metadata": {},
     "output_type": "display_data"
    }
   ],
   "source": [
    "sprintf(\"%.7s\", \"KOUDAI\")"
   ]
  },
  {
   "cell_type": "code",
   "execution_count": 20,
   "id": "211bdad3",
   "metadata": {},
   "outputs": [
    {
     "data": {
      "text/html": [
       "<span style=white-space:pre-wrap>'  1'</span>"
      ],
      "text/latex": [
       "'  1'"
      ],
      "text/markdown": [
       "<span style=white-space:pre-wrap>'  1'</span>"
      ],
      "text/plain": [
       "[1] \"  1\""
      ]
     },
     "metadata": {},
     "output_type": "display_data"
    }
   ],
   "source": [
    "sprintf(\"%3d\", 1) "
   ]
  },
  {
   "cell_type": "code",
   "execution_count": 21,
   "id": "efdd3be0",
   "metadata": {},
   "outputs": [
    {
     "data": {
      "text/html": [
       "'001'"
      ],
      "text/latex": [
       "'001'"
      ],
      "text/markdown": [
       "'001'"
      ],
      "text/plain": [
       "[1] \"001\""
      ]
     },
     "metadata": {},
     "output_type": "display_data"
    }
   ],
   "source": [
    "sprintf(\"%03d\", 1)"
   ]
  },
  {
   "cell_type": "code",
   "execution_count": 22,
   "id": "0910bb0a",
   "metadata": {},
   "outputs": [
    {
     "data": {
      "text/html": [
       "<span style=white-space:pre-wrap>'            1'</span>"
      ],
      "text/latex": [
       "'            1'"
      ],
      "text/markdown": [
       "<span style=white-space:pre-wrap>'            1'</span>"
      ],
      "text/plain": [
       "[1] \"            1\""
      ]
     },
     "metadata": {},
     "output_type": "display_data"
    }
   ],
   "source": [
    "sprintf(\"%13d\", 1)"
   ]
  },
  {
   "cell_type": "code",
   "execution_count": 23,
   "id": "6e5b4ed4",
   "metadata": {},
   "outputs": [],
   "source": [
    "warizan <- function(a,b){\n",
    "  if(a==0){\n",
    "    sprintf(\"計算できません\")\n",
    "  }else{\n",
    "    z=b/a\n",
    "    sprintf(\"計算結果は %d です\",z)\n",
    "  }\n",
    "}"
   ]
  },
  {
   "cell_type": "code",
   "execution_count": 24,
   "id": "0ab4784d",
   "metadata": {},
   "outputs": [
    {
     "data": {
      "text/html": [
       "'計算結果は 5 です'"
      ],
      "text/latex": [
       "'計算結果は 5 です'"
      ],
      "text/markdown": [
       "'計算結果は 5 です'"
      ],
      "text/plain": [
       "[1] \"計算結果は 5 です\""
      ]
     },
     "metadata": {},
     "output_type": "display_data"
    }
   ],
   "source": [
    "warizan(1,5)"
   ]
  },
  {
   "cell_type": "code",
   "execution_count": 25,
   "id": "98244f60",
   "metadata": {},
   "outputs": [
    {
     "data": {
      "text/html": [
       "'計算できません'"
      ],
      "text/latex": [
       "'計算できません'"
      ],
      "text/markdown": [
       "'計算できません'"
      ],
      "text/plain": [
       "[1] \"計算できません\""
      ]
     },
     "metadata": {},
     "output_type": "display_data"
    }
   ],
   "source": [
    "warizan(0,5)"
   ]
  },
  {
   "cell_type": "code",
   "execution_count": 26,
   "id": "27362ab0",
   "metadata": {},
   "outputs": [
    {
     "ename": "ERROR",
     "evalue": "Error in sprintf(\"計算結果は %d です\", z):  不正な書式 '%d';  数値オブジェクトには %f, %e, %g または %a 書式を使ってください  \n",
     "output_type": "error",
     "traceback": [
      "Error in sprintf(\"計算結果は %d です\", z):  不正な書式 '%d';  数値オブジェクトには %f, %e, %g または %a 書式を使ってください  \nTraceback:\n",
      "1. warizan(2, 5)",
      "2. sprintf(\"計算結果は %d です\", z)   # at line 6 of file <text>"
     ]
    }
   ],
   "source": [
    "warizan(2,5)"
   ]
  },
  {
   "cell_type": "code",
   "execution_count": 27,
   "id": "be01e5bf",
   "metadata": {},
   "outputs": [
    {
     "data": {
      "text/html": [
       "'計算結果は 2.5 です'"
      ],
      "text/latex": [
       "'計算結果は 2.5 です'"
      ],
      "text/markdown": [
       "'計算結果は 2.5 です'"
      ],
      "text/plain": [
       "[1] \"計算結果は 2.5 です\""
      ]
     },
     "metadata": {},
     "output_type": "display_data"
    }
   ],
   "source": [
    "warizan <- function(a,b){\n",
    "  if(a==0){\n",
    "    sprintf(\"計算できません\")\n",
    "  }else{\n",
    "    z=b/a\n",
    "    sprintf(\"計算結果は %g です\",z)\n",
    "  }\n",
    "}\n",
    "warizan(2,5)"
   ]
  },
  {
   "cell_type": "code",
   "execution_count": 28,
   "id": "ea03d53c",
   "metadata": {},
   "outputs": [],
   "source": [
    "seiseki <- function (s) {\n",
    "if(s>=60){\n",
    "cat(\"合格です。\\n\")\n",
    "}else{\n",
    "cat(\"不合格です。\\n\")\n",
    "}}"
   ]
  },
  {
   "cell_type": "code",
   "execution_count": 29,
   "id": "92fe0125",
   "metadata": {},
   "outputs": [
    {
     "name": "stdout",
     "output_type": "stream",
     "text": [
      "不合格です。\n"
     ]
    }
   ],
   "source": [
    "seiseki(59)"
   ]
  },
  {
   "cell_type": "code",
   "execution_count": 30,
   "id": "e4337ef3",
   "metadata": {},
   "outputs": [
    {
     "name": "stdout",
     "output_type": "stream",
     "text": [
      "合格です。\n"
     ]
    }
   ],
   "source": [
    "seiseki(60)"
   ]
  },
  {
   "cell_type": "code",
   "execution_count": 31,
   "id": "c79b6bb1",
   "metadata": {},
   "outputs": [],
   "source": [
    "seiseki2 <- function (s) {\n",
    "if(s>=90){\n",
    "cat(\"あなたの成績は  S です。\\n\")\n",
    "}else{\n",
    "if(s>=80){\n",
    "cat(\"あなたの成績は  A です。\\n\")\n",
    "}else{\n",
    "if(s>=70){\n",
    "cat(\"あなたの成績は  B です。\\n\")\n",
    "}else{\n",
    "if(s>=60){\n",
    "cat(\"あなたの成績は  C です。\\n\")\n",
    "}else{\n",
    "cat(\"あなたの成績は  D です。\\n\")\n",
    "}}}}}"
   ]
  },
  {
   "cell_type": "code",
   "execution_count": 32,
   "id": "422feb60",
   "metadata": {},
   "outputs": [
    {
     "name": "stdout",
     "output_type": "stream",
     "text": [
      "あなたの成績は  S です。\n"
     ]
    }
   ],
   "source": [
    "seiseki2(90)"
   ]
  },
  {
   "cell_type": "code",
   "execution_count": 33,
   "id": "24abb3d8",
   "metadata": {},
   "outputs": [
    {
     "name": "stdout",
     "output_type": "stream",
     "text": [
      "あなたの成績は  A です。\n"
     ]
    }
   ],
   "source": [
    "seiseki2(80)"
   ]
  },
  {
   "cell_type": "code",
   "execution_count": 34,
   "id": "52b5eebe",
   "metadata": {},
   "outputs": [
    {
     "name": "stdout",
     "output_type": "stream",
     "text": [
      "あなたの成績は  B です。\n"
     ]
    }
   ],
   "source": [
    "seiseki2(70)"
   ]
  },
  {
   "cell_type": "code",
   "execution_count": 35,
   "id": "a0325ee4",
   "metadata": {},
   "outputs": [
    {
     "name": "stdout",
     "output_type": "stream",
     "text": [
      "あなたの成績は  C です。\n"
     ]
    }
   ],
   "source": [
    "seiseki2(60)"
   ]
  },
  {
   "cell_type": "code",
   "execution_count": 36,
   "id": "236d8f7c",
   "metadata": {},
   "outputs": [
    {
     "name": "stdout",
     "output_type": "stream",
     "text": [
      "あなたの成績は  D です。\n"
     ]
    }
   ],
   "source": [
    "seiseki2(50)"
   ]
  },
  {
   "cell_type": "code",
   "execution_count": 37,
   "id": "cf3faeac",
   "metadata": {},
   "outputs": [],
   "source": [
    "hyouji <- function(n){\n",
    "for(i in 1:n){\n",
    "print(i)\n",
    "}}"
   ]
  },
  {
   "cell_type": "code",
   "execution_count": 38,
   "id": "4e53390e",
   "metadata": {},
   "outputs": [
    {
     "name": "stdout",
     "output_type": "stream",
     "text": [
      "[1] 1\n",
      "[1] 2\n",
      "[1] 3\n",
      "[1] 4\n",
      "[1] 5\n",
      "[1] 6\n",
      "[1] 7\n",
      "[1] 8\n",
      "[1] 9\n",
      "[1] 10\n"
     ]
    }
   ],
   "source": [
    "hyouji(10)"
   ]
  },
  {
   "cell_type": "code",
   "execution_count": 39,
   "id": "6a8aea00",
   "metadata": {},
   "outputs": [],
   "source": [
    "hyouji2 <- function(n){\n",
    "s <- 0\n",
    "for(i in 1:n){\n",
    "s <- i\n",
    "print(s)\n",
    "}}"
   ]
  },
  {
   "cell_type": "code",
   "execution_count": 40,
   "id": "51112550",
   "metadata": {},
   "outputs": [
    {
     "name": "stdout",
     "output_type": "stream",
     "text": [
      "[1] 1\n",
      "[1] 2\n",
      "[1] 3\n",
      "[1] 4\n",
      "[1] 5\n",
      "[1] 6\n",
      "[1] 7\n",
      "[1] 8\n",
      "[1] 9\n",
      "[1] 10\n"
     ]
    }
   ],
   "source": [
    "hyouji2(10)"
   ]
  },
  {
   "cell_type": "code",
   "execution_count": 41,
   "id": "4eb1801e",
   "metadata": {},
   "outputs": [],
   "source": [
    "wa <- function (n) {\n",
    "s = 0\n",
    "for(i in 1:n){\n",
    "s<-s+i\n",
    "}\n",
    "return(s)\n",
    "}"
   ]
  },
  {
   "cell_type": "code",
   "execution_count": 42,
   "id": "09f8900b",
   "metadata": {},
   "outputs": [
    {
     "data": {
      "text/html": [
       "55"
      ],
      "text/latex": [
       "55"
      ],
      "text/markdown": [
       "55"
      ],
      "text/plain": [
       "[1] 55"
      ]
     },
     "metadata": {},
     "output_type": "display_data"
    }
   ],
   "source": [
    "wa(10)"
   ]
  },
  {
   "cell_type": "code",
   "execution_count": 43,
   "id": "9c5c9739",
   "metadata": {},
   "outputs": [
    {
     "name": "stdout",
     "output_type": "stream",
     "text": [
      "[1] 550\n"
     ]
    }
   ],
   "source": [
    "s=0\n",
    "for(m in 1:10){\n",
    "  for(n in 1:10){\n",
    "    s<-s+n\t\n",
    "  }\n",
    "}\n",
    "print(s)"
   ]
  },
  {
   "cell_type": "code",
   "execution_count": 44,
   "id": "005278df",
   "metadata": {},
   "outputs": [],
   "source": [
    "hyouji3 <- function(n){\n",
    "i <- 1\n",
    "while(i<=n){\n",
    "print(i)\n",
    "i <- i+1\n",
    "}}"
   ]
  },
  {
   "cell_type": "code",
   "execution_count": 45,
   "id": "71444755",
   "metadata": {},
   "outputs": [
    {
     "name": "stdout",
     "output_type": "stream",
     "text": [
      "[1] 1\n",
      "[1] 2\n",
      "[1] 3\n",
      "[1] 4\n",
      "[1] 5\n",
      "[1] 6\n",
      "[1] 7\n",
      "[1] 8\n",
      "[1] 9\n",
      "[1] 10\n"
     ]
    }
   ],
   "source": [
    "hyouji3(10)"
   ]
  },
  {
   "cell_type": "code",
   "execution_count": 46,
   "id": "d245e61a",
   "metadata": {},
   "outputs": [],
   "source": [
    "hyouji4 <- function(n){\n",
    "i <- 1\n",
    "s <- 0\n",
    "while(i<=n){\n",
    "s <- i\n",
    "print(s)\n",
    "i <- i+1\n",
    "}}"
   ]
  },
  {
   "cell_type": "code",
   "execution_count": 47,
   "id": "ae1af2fa",
   "metadata": {},
   "outputs": [
    {
     "name": "stdout",
     "output_type": "stream",
     "text": [
      "[1] 1\n",
      "[1] 2\n",
      "[1] 3\n",
      "[1] 4\n",
      "[1] 5\n",
      "[1] 6\n",
      "[1] 7\n",
      "[1] 8\n",
      "[1] 9\n",
      "[1] 10\n"
     ]
    }
   ],
   "source": [
    "hyouji4(10)"
   ]
  },
  {
   "cell_type": "code",
   "execution_count": 48,
   "id": "32ed8175",
   "metadata": {},
   "outputs": [],
   "source": [
    "kaijou <- function (n) {\n",
    "kai <-1; i<-1\n",
    "while(i<=n){\n",
    "kai<-kai*i; i<-i+1\n",
    "}\n",
    "return(kai)\n",
    "}"
   ]
  },
  {
   "cell_type": "code",
   "execution_count": 49,
   "id": "d123a445",
   "metadata": {},
   "outputs": [
    {
     "data": {
      "text/html": [
       "3628800"
      ],
      "text/latex": [
       "3628800"
      ],
      "text/markdown": [
       "3628800"
      ],
      "text/plain": [
       "[1] 3628800"
      ]
     },
     "metadata": {},
     "output_type": "display_data"
    }
   ],
   "source": [
    "kaijou(10)"
   ]
  }
 ],
 "metadata": {
  "kernelspec": {
   "display_name": "R",
   "language": "R",
   "name": "ir"
  },
  "language_info": {
   "codemirror_mode": "r",
   "file_extension": ".r",
   "mimetype": "text/x-r-source",
   "name": "R",
   "pygments_lexer": "r",
   "version": "3.6.1"
  }
 },
 "nbformat": 4,
 "nbformat_minor": 5
}
