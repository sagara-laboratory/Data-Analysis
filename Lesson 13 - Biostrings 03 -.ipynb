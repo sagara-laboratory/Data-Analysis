{
 "cells": [
  {
   "cell_type": "code",
   "execution_count": 1,
   "id": "7a90f932",
   "metadata": {},
   "outputs": [
    {
     "name": "stderr",
     "output_type": "stream",
     "text": [
      "Loading required package: BiocGenerics\n",
      "Loading required package: parallel\n",
      "\n",
      "Attaching package: 'BiocGenerics'\n",
      "\n",
      "The following objects are masked from 'package:parallel':\n",
      "\n",
      "    clusterApply, clusterApplyLB, clusterCall, clusterEvalQ,\n",
      "    clusterExport, clusterMap, parApply, parCapply, parLapply,\n",
      "    parLapplyLB, parRapply, parSapply, parSapplyLB\n",
      "\n",
      "The following objects are masked from 'package:stats':\n",
      "\n",
      "    IQR, mad, sd, var, xtabs\n",
      "\n",
      "The following objects are masked from 'package:base':\n",
      "\n",
      "    anyDuplicated, append, as.data.frame, basename, cbind, colnames,\n",
      "    dirname, do.call, duplicated, eval, evalq, Filter, Find, get, grep,\n",
      "    grepl, intersect, is.unsorted, lapply, Map, mapply, match, mget,\n",
      "    order, paste, pmax, pmax.int, pmin, pmin.int, Position, rank,\n",
      "    rbind, Reduce, rownames, sapply, setdiff, sort, table, tapply,\n",
      "    union, unique, unsplit, which, which.max, which.min\n",
      "\n",
      "Loading required package: S4Vectors\n",
      "Warning message:\n",
      "\"package 'S4Vectors' was built under R version 3.6.3\"Loading required package: stats4\n",
      "\n",
      "Attaching package: 'S4Vectors'\n",
      "\n",
      "The following object is masked from 'package:base':\n",
      "\n",
      "    expand.grid\n",
      "\n",
      "Loading required package: IRanges\n",
      "Warning message:\n",
      "\"package 'IRanges' was built under R version 3.6.2\"\n",
      "Attaching package: 'IRanges'\n",
      "\n",
      "The following object is masked from 'package:grDevices':\n",
      "\n",
      "    windows\n",
      "\n",
      "Loading required package: XVector\n",
      "\n",
      "Attaching package: 'Biostrings'\n",
      "\n",
      "The following object is masked from 'package:base':\n",
      "\n",
      "    strsplit\n",
      "\n"
     ]
    }
   ],
   "source": [
    "library(Biostrings)"
   ]
  },
  {
   "cell_type": "code",
   "execution_count": 2,
   "id": "6e1a0981",
   "metadata": {},
   "outputs": [],
   "source": [
    "rs_s <- readDNAStringSet(\"random-seq_s.fasta\", format=\"fasta\")"
   ]
  },
  {
   "cell_type": "code",
   "execution_count": 3,
   "id": "26dae92c",
   "metadata": {},
   "outputs": [
    {
     "data": {
      "text/plain": [
       "  A DNAStringSet instance of length 1\n",
       "    width seq                                               names               \n",
       "[1]    10 AAATACGCGC                                        random-seq_s"
      ]
     },
     "metadata": {},
     "output_type": "display_data"
    }
   ],
   "source": [
    "rs_s"
   ]
  },
  {
   "cell_type": "code",
   "execution_count": 4,
   "id": "97e4e18e",
   "metadata": {},
   "outputs": [],
   "source": [
    "rs_s_c <- complement(rs_s)"
   ]
  },
  {
   "cell_type": "code",
   "execution_count": 5,
   "id": "fb862414",
   "metadata": {},
   "outputs": [
    {
     "data": {
      "text/plain": [
       "  A DNAStringSet instance of length 1\n",
       "    width seq                                               names               \n",
       "[1]    10 TTTATGCGCG                                        random-seq_s"
      ]
     },
     "metadata": {},
     "output_type": "display_data"
    }
   ],
   "source": [
    "rs_s_c"
   ]
  },
  {
   "cell_type": "code",
   "execution_count": 6,
   "id": "39b8c2a0",
   "metadata": {},
   "outputs": [],
   "source": [
    "rs_s_rc <- reverseComplement(rs_s)"
   ]
  },
  {
   "cell_type": "code",
   "execution_count": 7,
   "id": "3d86ba3f",
   "metadata": {},
   "outputs": [
    {
     "data": {
      "text/plain": [
       "  A DNAStringSet instance of length 1\n",
       "    width seq                                               names               \n",
       "[1]    10 GCGCGTATTT                                        random-seq_s"
      ]
     },
     "metadata": {},
     "output_type": "display_data"
    }
   ],
   "source": [
    "rs_s_rc"
   ]
  },
  {
   "cell_type": "code",
   "execution_count": 8,
   "id": "2e252290",
   "metadata": {},
   "outputs": [],
   "source": [
    "rs_s_r <- reverse(rs_s)"
   ]
  },
  {
   "cell_type": "code",
   "execution_count": 9,
   "id": "fae127f1",
   "metadata": {},
   "outputs": [
    {
     "data": {
      "text/plain": [
       "  A DNAStringSet instance of length 1\n",
       "    width seq                                               names               \n",
       "[1]    10 CGCGCATAAA                                        random-seq_s"
      ]
     },
     "metadata": {},
     "output_type": "display_data"
    }
   ],
   "source": [
    "rs_s_r"
   ]
  },
  {
   "cell_type": "code",
   "execution_count": null,
   "id": "84412c35",
   "metadata": {},
   "outputs": [],
   "source": []
  }
 ],
 "metadata": {
  "kernelspec": {
   "display_name": "R",
   "language": "R",
   "name": "ir"
  },
  "language_info": {
   "codemirror_mode": "r",
   "file_extension": ".r",
   "mimetype": "text/x-r-source",
   "name": "R",
   "pygments_lexer": "r",
   "version": "3.6.1"
  }
 },
 "nbformat": 4,
 "nbformat_minor": 5
}
