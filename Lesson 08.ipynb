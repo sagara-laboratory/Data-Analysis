{
 "cells": [
  {
   "cell_type": "code",
   "execution_count": 1,
   "id": "9ad573d0",
   "metadata": {},
   "outputs": [],
   "source": [
    "plus <- function(x, y){\n",
    "a <- x+y\n",
    "return(a)    \n",
    "}"
   ]
  },
  {
   "cell_type": "code",
   "execution_count": 2,
   "id": "a562ef54",
   "metadata": {},
   "outputs": [
    {
     "data": {
      "text/html": [
       "3"
      ],
      "text/latex": [
       "3"
      ],
      "text/markdown": [
       "3"
      ],
      "text/plain": [
       "[1] 3"
      ]
     },
     "metadata": {},
     "output_type": "display_data"
    }
   ],
   "source": [
    "plus(1,2)"
   ]
  },
  {
   "cell_type": "code",
   "execution_count": 3,
   "id": "714bdd8a",
   "metadata": {},
   "outputs": [
    {
     "data": {
      "text/html": [
       "30"
      ],
      "text/latex": [
       "30"
      ],
      "text/markdown": [
       "30"
      ],
      "text/plain": [
       "[1] 30"
      ]
     },
     "metadata": {},
     "output_type": "display_data"
    }
   ],
   "source": [
    "plus(10,20)"
   ]
  },
  {
   "cell_type": "code",
   "execution_count": 4,
   "id": "8bf90c27",
   "metadata": {},
   "outputs": [
    {
     "data": {
      "text/html": [
       "7"
      ],
      "text/latex": [
       "7"
      ],
      "text/markdown": [
       "7"
      ],
      "text/plain": [
       "[1] 7"
      ]
     },
     "metadata": {},
     "output_type": "display_data"
    }
   ],
   "source": [
    "plus(4,3)"
   ]
  },
  {
   "cell_type": "code",
   "execution_count": 5,
   "id": "ac28556f",
   "metadata": {},
   "outputs": [],
   "source": [
    "plus3 <- function(x, y, z){\n",
    "a <- x+y+z\n",
    "return(a)    \n",
    "}"
   ]
  },
  {
   "cell_type": "code",
   "execution_count": 6,
   "id": "a32410b2",
   "metadata": {},
   "outputs": [
    {
     "data": {
      "text/html": [
       "6"
      ],
      "text/latex": [
       "6"
      ],
      "text/markdown": [
       "6"
      ],
      "text/plain": [
       "[1] 6"
      ]
     },
     "metadata": {},
     "output_type": "display_data"
    }
   ],
   "source": [
    "plus3(1,2,3)"
   ]
  },
  {
   "cell_type": "code",
   "execution_count": 7,
   "id": "0af06b55",
   "metadata": {},
   "outputs": [
    {
     "data": {
      "text/html": [
       "12"
      ],
      "text/latex": [
       "12"
      ],
      "text/markdown": [
       "12"
      ],
      "text/plain": [
       "[1] 12"
      ]
     },
     "metadata": {},
     "output_type": "display_data"
    }
   ],
   "source": [
    "plus3(3,4,5)"
   ]
  },
  {
   "cell_type": "code",
   "execution_count": 8,
   "id": "8ffb252b",
   "metadata": {},
   "outputs": [
    {
     "data": {
      "text/html": [
       "30"
      ],
      "text/latex": [
       "30"
      ],
      "text/markdown": [
       "30"
      ],
      "text/plain": [
       "[1] 30"
      ]
     },
     "metadata": {},
     "output_type": "display_data"
    }
   ],
   "source": [
    "plus3(11,10,9)"
   ]
  },
  {
   "cell_type": "code",
   "execution_count": 9,
   "id": "b3374115",
   "metadata": {},
   "outputs": [],
   "source": [
    "OverTen <- function(x,y){\n",
    "z = x +y \n",
    "if (z>=10){\n",
    "print(\"10以上の数です\")\n",
    "}else{\n",
    "print(\"10未満の数です\")\n",
    "}\n",
    "}"
   ]
  },
  {
   "cell_type": "code",
   "execution_count": 10,
   "id": "d40cec4a",
   "metadata": {},
   "outputs": [
    {
     "name": "stdout",
     "output_type": "stream",
     "text": [
      "[1] \"10未満の数です\"\n"
     ]
    }
   ],
   "source": [
    "OverTen(5,4)"
   ]
  },
  {
   "cell_type": "code",
   "execution_count": 11,
   "id": "bff3a62a",
   "metadata": {},
   "outputs": [
    {
     "name": "stdout",
     "output_type": "stream",
     "text": [
      "[1] \"10以上の数です\"\n"
     ]
    }
   ],
   "source": [
    "OverTen(5,5)"
   ]
  },
  {
   "cell_type": "code",
   "execution_count": 12,
   "id": "e5f31621",
   "metadata": {},
   "outputs": [
    {
     "name": "stdout",
     "output_type": "stream",
     "text": [
      "[1] \"10以上の数です\"\n"
     ]
    }
   ],
   "source": [
    "OverTen(5,6)"
   ]
  },
  {
   "cell_type": "code",
   "execution_count": 13,
   "id": "db9d18f1",
   "metadata": {},
   "outputs": [],
   "source": [
    "Ten <- function(x,y){\n",
    "z =  x +y \n",
    "if(z==10){\n",
    "print(\"10 です\")\n",
    "}else if(z>=10){\n",
    "print(\"10を超える数です\")\n",
    "}else{\n",
    "print(\"10未満の数です\")\n",
    "}}"
   ]
  },
  {
   "cell_type": "code",
   "execution_count": 14,
   "id": "bd1dd2ae",
   "metadata": {},
   "outputs": [
    {
     "name": "stdout",
     "output_type": "stream",
     "text": [
      "[1] \"10未満の数です\"\n"
     ]
    }
   ],
   "source": [
    "Ten(5,4)"
   ]
  },
  {
   "cell_type": "code",
   "execution_count": 15,
   "id": "f99d8d22",
   "metadata": {},
   "outputs": [
    {
     "name": "stdout",
     "output_type": "stream",
     "text": [
      "[1] \"10 です\"\n"
     ]
    }
   ],
   "source": [
    "Ten(5,5)"
   ]
  },
  {
   "cell_type": "code",
   "execution_count": 16,
   "id": "890b1e6f",
   "metadata": {},
   "outputs": [
    {
     "name": "stdout",
     "output_type": "stream",
     "text": [
      "[1] \"10を超える数です\"\n"
     ]
    }
   ],
   "source": [
    "Ten(5,6)"
   ]
  },
  {
   "cell_type": "code",
   "execution_count": 17,
   "id": "0fe642f8",
   "metadata": {},
   "outputs": [],
   "source": [
    "PlusMinus <- function(c, x, y){\n",
    "if(c==\"p\"){\n",
    "z = x + y; z\n",
    "}else if(c==\"m\"){\n",
    "z = x - y; z\n",
    "}else {\n",
    "print(\"計算できません\")\n",
    "}}"
   ]
  },
  {
   "cell_type": "code",
   "execution_count": 18,
   "id": "8cee1429",
   "metadata": {},
   "outputs": [
    {
     "data": {
      "text/html": [
       "9"
      ],
      "text/latex": [
       "9"
      ],
      "text/markdown": [
       "9"
      ],
      "text/plain": [
       "[1] 9"
      ]
     },
     "metadata": {},
     "output_type": "display_data"
    }
   ],
   "source": [
    "PlusMinus(\"p\",5,4)"
   ]
  },
  {
   "cell_type": "code",
   "execution_count": 19,
   "id": "6ade27a5",
   "metadata": {},
   "outputs": [
    {
     "data": {
      "text/html": [
       "1"
      ],
      "text/latex": [
       "1"
      ],
      "text/markdown": [
       "1"
      ],
      "text/plain": [
       "[1] 1"
      ]
     },
     "metadata": {},
     "output_type": "display_data"
    }
   ],
   "source": [
    "PlusMinus(\"m\",5,4)"
   ]
  },
  {
   "cell_type": "code",
   "execution_count": 20,
   "id": "8ec81295",
   "metadata": {},
   "outputs": [
    {
     "name": "stdout",
     "output_type": "stream",
     "text": [
      "[1] \"計算できません\"\n"
     ]
    }
   ],
   "source": [
    "PlusMinus(\"a\",5,4)"
   ]
  },
  {
   "cell_type": "code",
   "execution_count": null,
   "id": "4464ef3a",
   "metadata": {},
   "outputs": [],
   "source": []
  }
 ],
 "metadata": {
  "kernelspec": {
   "display_name": "R",
   "language": "R",
   "name": "ir"
  },
  "language_info": {
   "codemirror_mode": "r",
   "file_extension": ".r",
   "mimetype": "text/x-r-source",
   "name": "R",
   "pygments_lexer": "r",
   "version": "3.6.1"
  }
 },
 "nbformat": 4,
 "nbformat_minor": 5
}
