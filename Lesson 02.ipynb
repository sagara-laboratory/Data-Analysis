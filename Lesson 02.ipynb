{
 "cells": [
  {
   "cell_type": "code",
   "execution_count": 1,
   "id": "110ed50a",
   "metadata": {},
   "outputs": [],
   "source": [
    "x <- c(100, 115, 93, 102, 97)"
   ]
  },
  {
   "cell_type": "code",
   "execution_count": 2,
   "id": "40f4f0ab",
   "metadata": {},
   "outputs": [
    {
     "data": {
      "text/html": [
       "101.4"
      ],
      "text/latex": [
       "101.4"
      ],
      "text/markdown": [
       "101.4"
      ],
      "text/plain": [
       "[1] 101.4"
      ]
     },
     "metadata": {},
     "output_type": "display_data"
    }
   ],
   "source": [
    "mean(x) "
   ]
  },
  {
   "cell_type": "code",
   "execution_count": 3,
   "id": "c2e4ed23",
   "metadata": {},
   "outputs": [
    {
     "data": {
      "text/html": [
       "2.76923076923077"
      ],
      "text/latex": [
       "2.76923076923077"
      ],
      "text/markdown": [
       "2.76923076923077"
      ],
      "text/plain": [
       "[1] 2.769231"
      ]
     },
     "metadata": {},
     "output_type": "display_data"
    }
   ],
   "source": [
    "(1*5+2*3+3*11+4*7)/(5+3+11+7)"
   ]
  },
  {
   "cell_type": "code",
   "execution_count": 4,
   "id": "10f1c44c",
   "metadata": {},
   "outputs": [
    {
     "data": {
      "text/html": [
       "51.3163265306122"
      ],
      "text/latex": [
       "51.3163265306122"
      ],
      "text/markdown": [
       "51.3163265306122"
      ],
      "text/plain": [
       "[1] 51.31633"
      ]
     },
     "metadata": {},
     "output_type": "display_data"
    }
   ],
   "source": [
    "(10.5*5+30.5*25+50.5*37+70.5*23+90.5*8)/(5+25+37+23+8)"
   ]
  },
  {
   "cell_type": "code",
   "execution_count": 5,
   "id": "e449c9a0",
   "metadata": {},
   "outputs": [],
   "source": [
    "z <- c(73,93,102,111,107,103,102,105,198,252)"
   ]
  },
  {
   "cell_type": "code",
   "execution_count": 6,
   "id": "bf560c90",
   "metadata": {},
   "outputs": [
    {
     "data": {
      "text/html": [
       "124.6"
      ],
      "text/latex": [
       "124.6"
      ],
      "text/markdown": [
       "124.6"
      ],
      "text/plain": [
       "[1] 124.6"
      ]
     },
     "metadata": {},
     "output_type": "display_data"
    }
   ],
   "source": [
    "mean(z)"
   ]
  },
  {
   "cell_type": "code",
   "execution_count": 7,
   "id": "017ec150",
   "metadata": {},
   "outputs": [
    {
     "data": {
      "text/html": [
       "105"
      ],
      "text/latex": [
       "105"
      ],
      "text/markdown": [
       "105"
      ],
      "text/plain": [
       "[1] 105"
      ]
     },
     "metadata": {},
     "output_type": "display_data"
    }
   ],
   "source": [
    "mean(z, trim=0.2) "
   ]
  },
  {
   "cell_type": "code",
   "execution_count": 8,
   "id": "94a40a73",
   "metadata": {},
   "outputs": [],
   "source": [
    "u <- c(1, 0, 0, 1, 1, 1, 0, 1, 1, 0)"
   ]
  },
  {
   "cell_type": "code",
   "execution_count": 9,
   "id": "28a97514",
   "metadata": {},
   "outputs": [
    {
     "data": {
      "text/plain": [
       "u\n",
       "0 1 \n",
       "4 6 "
      ]
     },
     "metadata": {},
     "output_type": "display_data"
    }
   ],
   "source": [
    "table(u)"
   ]
  },
  {
   "cell_type": "code",
   "execution_count": 10,
   "id": "ae9388a5",
   "metadata": {},
   "outputs": [
    {
     "data": {
      "text/html": [
       "0.6"
      ],
      "text/latex": [
       "0.6"
      ],
      "text/markdown": [
       "0.6"
      ],
      "text/plain": [
       "[1] 0.6"
      ]
     },
     "metadata": {},
     "output_type": "display_data"
    }
   ],
   "source": [
    "mean(u)"
   ]
  },
  {
   "cell_type": "code",
   "execution_count": 11,
   "id": "082add47",
   "metadata": {},
   "outputs": [],
   "source": [
    "a <- c(1, 1, 3, 4, 5, 6, 7)\n",
    "b <- c(0.01, 0.3, 2, 4, 5, 11, 50)\n",
    "c <- c(1, 1, 2, 4, 6, 100, 2000)"
   ]
  },
  {
   "cell_type": "code",
   "execution_count": 12,
   "id": "efa4b55b",
   "metadata": {},
   "outputs": [
    {
     "data": {
      "text/html": [
       "4"
      ],
      "text/latex": [
       "4"
      ],
      "text/markdown": [
       "4"
      ],
      "text/plain": [
       "[1] 4"
      ]
     },
     "metadata": {},
     "output_type": "display_data"
    },
    {
     "data": {
      "text/html": [
       "4"
      ],
      "text/latex": [
       "4"
      ],
      "text/markdown": [
       "4"
      ],
      "text/plain": [
       "[1] 4"
      ]
     },
     "metadata": {},
     "output_type": "display_data"
    },
    {
     "data": {
      "text/html": [
       "4"
      ],
      "text/latex": [
       "4"
      ],
      "text/markdown": [
       "4"
      ],
      "text/plain": [
       "[1] 4"
      ]
     },
     "metadata": {},
     "output_type": "display_data"
    }
   ],
   "source": [
    "median(a)\n",
    "median(b)\n",
    "median(c)"
   ]
  },
  {
   "cell_type": "code",
   "execution_count": 13,
   "id": "1c502e3f",
   "metadata": {},
   "outputs": [
    {
     "data": {
      "text/html": [
       "3.85714285714286"
      ],
      "text/latex": [
       "3.85714285714286"
      ],
      "text/markdown": [
       "3.85714285714286"
      ],
      "text/plain": [
       "[1] 3.857143"
      ]
     },
     "metadata": {},
     "output_type": "display_data"
    },
    {
     "data": {
      "text/html": [
       "10.33"
      ],
      "text/latex": [
       "10.33"
      ],
      "text/markdown": [
       "10.33"
      ],
      "text/plain": [
       "[1] 10.33"
      ]
     },
     "metadata": {},
     "output_type": "display_data"
    },
    {
     "data": {
      "text/html": [
       "302"
      ],
      "text/latex": [
       "302"
      ],
      "text/markdown": [
       "302"
      ],
      "text/plain": [
       "[1] 302"
      ]
     },
     "metadata": {},
     "output_type": "display_data"
    }
   ],
   "source": [
    "mean(a)\n",
    "mean(b)\n",
    "mean(c)"
   ]
  },
  {
   "cell_type": "code",
   "execution_count": 14,
   "id": "4661e833",
   "metadata": {},
   "outputs": [],
   "source": [
    "v <- c(3, 3, 3, 1, 3, 2, 2, 3, 2, 1, 1, 2, 3, 2, 2, 3, 3, 4, 3, 2)"
   ]
  },
  {
   "cell_type": "code",
   "execution_count": 15,
   "id": "3580ab41",
   "metadata": {},
   "outputs": [
    {
     "data": {
      "text/plain": [
       "v\n",
       "1 2 3 4 \n",
       "3 7 9 1 "
      ]
     },
     "metadata": {},
     "output_type": "display_data"
    }
   ],
   "source": [
    "table(v)"
   ]
  },
  {
   "cell_type": "code",
   "execution_count": 16,
   "id": "9281003a",
   "metadata": {},
   "outputs": [],
   "source": [
    "c_a <- c(90, 80, 70, 10, 0)\n",
    "c_b <- c(70, 50, 50, 40, 40) "
   ]
  },
  {
   "cell_type": "code",
   "execution_count": 17,
   "id": "18bd2b25",
   "metadata": {},
   "outputs": [
    {
     "data": {
      "text/html": [
       "70"
      ],
      "text/latex": [
       "70"
      ],
      "text/markdown": [
       "70"
      ],
      "text/plain": [
       "[1] 70"
      ]
     },
     "metadata": {},
     "output_type": "display_data"
    }
   ],
   "source": [
    "IQR(c_a)"
   ]
  },
  {
   "cell_type": "code",
   "execution_count": 18,
   "id": "0507fbdc",
   "metadata": {},
   "outputs": [
    {
     "data": {
      "text/html": [
       "10"
      ],
      "text/latex": [
       "10"
      ],
      "text/markdown": [
       "10"
      ],
      "text/plain": [
       "[1] 10"
      ]
     },
     "metadata": {},
     "output_type": "display_data"
    }
   ],
   "source": [
    "IQR(c_b)"
   ]
  },
  {
   "cell_type": "code",
   "execution_count": 19,
   "id": "14df0331",
   "metadata": {},
   "outputs": [
    {
     "data": {
      "text/html": [
       "<ol class=list-inline>\n",
       "\t<li>0</li>\n",
       "\t<li>90</li>\n",
       "</ol>\n"
      ],
      "text/latex": [
       "\\begin{enumerate*}\n",
       "\\item 0\n",
       "\\item 90\n",
       "\\end{enumerate*}\n"
      ],
      "text/markdown": [
       "1. 0\n",
       "2. 90\n",
       "\n",
       "\n"
      ],
      "text/plain": [
       "[1]  0 90"
      ]
     },
     "metadata": {},
     "output_type": "display_data"
    }
   ],
   "source": [
    "range(c_a)"
   ]
  },
  {
   "cell_type": "code",
   "execution_count": 20,
   "id": "6e10c792",
   "metadata": {},
   "outputs": [
    {
     "data": {
      "text/html": [
       "<ol class=list-inline>\n",
       "\t<li>40</li>\n",
       "\t<li>70</li>\n",
       "</ol>\n"
      ],
      "text/latex": [
       "\\begin{enumerate*}\n",
       "\\item 40\n",
       "\\item 70\n",
       "\\end{enumerate*}\n"
      ],
      "text/markdown": [
       "1. 40\n",
       "2. 70\n",
       "\n",
       "\n"
      ],
      "text/plain": [
       "[1] 40 70"
      ]
     },
     "metadata": {},
     "output_type": "display_data"
    }
   ],
   "source": [
    "range(c_b)"
   ]
  },
  {
   "cell_type": "code",
   "execution_count": 21,
   "id": "d257858e",
   "metadata": {},
   "outputs": [],
   "source": [
    "c_c <- c(90, 70, 50, 40, 40, 30, 20) "
   ]
  },
  {
   "cell_type": "code",
   "execution_count": 22,
   "id": "3204c3f0",
   "metadata": {},
   "outputs": [
    {
     "data": {
      "text/html": [
       "<dl class=dl-horizontal>\n",
       "\t<dt>0%</dt>\n",
       "\t\t<dd>20</dd>\n",
       "\t<dt>25%</dt>\n",
       "\t\t<dd>35</dd>\n",
       "\t<dt>50%</dt>\n",
       "\t\t<dd>40</dd>\n",
       "\t<dt>75%</dt>\n",
       "\t\t<dd>60</dd>\n",
       "\t<dt>100%</dt>\n",
       "\t\t<dd>90</dd>\n",
       "</dl>\n"
      ],
      "text/latex": [
       "\\begin{description*}\n",
       "\\item[0\\textbackslash{}\\%] 20\n",
       "\\item[25\\textbackslash{}\\%] 35\n",
       "\\item[50\\textbackslash{}\\%] 40\n",
       "\\item[75\\textbackslash{}\\%] 60\n",
       "\\item[100\\textbackslash{}\\%] 90\n",
       "\\end{description*}\n"
      ],
      "text/markdown": [
       "0%\n",
       ":   2025%\n",
       ":   3550%\n",
       ":   4075%\n",
       ":   60100%\n",
       ":   90\n",
       "\n"
      ],
      "text/plain": [
       "  0%  25%  50%  75% 100% \n",
       "  20   35   40   60   90 "
      ]
     },
     "metadata": {},
     "output_type": "display_data"
    }
   ],
   "source": [
    "quantile(c_c)"
   ]
  },
  {
   "cell_type": "code",
   "execution_count": 23,
   "id": "93195bb8",
   "metadata": {},
   "outputs": [
    {
     "data": {
      "image/png": "[encoded data removed]",
      "text/plain": [
       "plot without title"
      ]
     },
     "metadata": {},
     "output_type": "display_data"
    }
   ],
   "source": [
    "boxplot(c_c)"
   ]
  },
  {
   "cell_type": "code",
   "execution_count": 24,
   "id": "a1668e8c",
   "metadata": {},
   "outputs": [
    {
     "data": {
      "image/png": "[encoded data removed]",
      "text/plain": [
       "plot without title"
      ]
     },
     "metadata": {},
     "output_type": "display_data"
    }
   ],
   "source": [
    "c_d <- c(150, 90, 70, 50, 40, 40, 30, 20) \n",
    "boxplot(c_d)"
   ]
  },
  {
   "cell_type": "code",
   "execution_count": 25,
   "id": "8fdb9346",
   "metadata": {},
   "outputs": [
    {
     "data": {
      "text/plain": [
       "   Min. 1st Qu.  Median    Mean 3rd Qu.    Max. \n",
       "   0.00    1.75    2.00    2.46    3.00    7.00 "
      ]
     },
     "metadata": {},
     "output_type": "display_data"
    }
   ],
   "source": [
    "s <- rpois(100, 2.5)\n",
    "summary(s) "
   ]
  },
  {
   "cell_type": "code",
   "execution_count": 26,
   "id": "ecb3884d",
   "metadata": {},
   "outputs": [
    {
     "data": {
      "image/png": "[encoded data removed]",
      "text/plain": [
       "plot without title"
      ]
     },
     "metadata": {},
     "output_type": "display_data"
    }
   ],
   "source": [
    "boxplot(s) "
   ]
  },
  {
   "cell_type": "code",
   "execution_count": null,
   "id": "f14374a1",
   "metadata": {},
   "outputs": [],
   "source": []
  }
 ],
 "metadata": {
  "kernelspec": {
   "display_name": "R",
   "language": "R",
   "name": "ir"
  },
  "language_info": {
   "codemirror_mode": "r",
   "file_extension": ".r",
   "mimetype": "text/x-r-source",
   "name": "R",
   "pygments_lexer": "r",
   "version": "3.6.1"
  }
 },
 "nbformat": 4,
 "nbformat_minor": 5
}
