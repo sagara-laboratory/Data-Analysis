{
 "cells": [
  {
   "cell_type": "code",
   "execution_count": 1,
   "id": "70cbcf74",
   "metadata": {},
   "outputs": [
    {
     "data": {
      "text/html": [
       "10"
      ],
      "text/latex": [
       "10"
      ],
      "text/markdown": [
       "10"
      ],
      "text/plain": [
       "[1] 10"
      ]
     },
     "metadata": {},
     "output_type": "display_data"
    }
   ],
   "source": [
    "choose(5,3)"
   ]
  },
  {
   "cell_type": "code",
   "execution_count": 2,
   "id": "10af10a6",
   "metadata": {},
   "outputs": [],
   "source": [
    "library(gtools)"
   ]
  },
  {
   "cell_type": "code",
   "execution_count": 3,
   "id": "25cbc47b",
   "metadata": {},
   "outputs": [
    {
     "data": {
      "text/html": [
       "<table>\n",
       "<tbody>\n",
       "\t<tr><td>3</td><td>5</td></tr>\n",
       "\t<tr><td>3</td><td>7</td></tr>\n",
       "\t<tr><td>5</td><td>3</td></tr>\n",
       "\t<tr><td>5</td><td>7</td></tr>\n",
       "\t<tr><td>7</td><td>3</td></tr>\n",
       "\t<tr><td>7</td><td>5</td></tr>\n",
       "</tbody>\n",
       "</table>\n"
      ],
      "text/latex": [
       "\\begin{tabular}{ll}\n",
       "\t 3 & 5\\\\\n",
       "\t 3 & 7\\\\\n",
       "\t 5 & 3\\\\\n",
       "\t 5 & 7\\\\\n",
       "\t 7 & 3\\\\\n",
       "\t 7 & 5\\\\\n",
       "\\end{tabular}\n"
      ],
      "text/markdown": [
       "\n",
       "| 3 | 5 |\n",
       "| 3 | 7 |\n",
       "| 5 | 3 |\n",
       "| 5 | 7 |\n",
       "| 7 | 3 |\n",
       "| 7 | 5 |\n",
       "\n"
      ],
      "text/plain": [
       "     [,1] [,2]\n",
       "[1,] 3    5   \n",
       "[2,] 3    7   \n",
       "[3,] 5    3   \n",
       "[4,] 5    7   \n",
       "[5,] 7    3   \n",
       "[6,] 7    5   "
      ]
     },
     "metadata": {},
     "output_type": "display_data"
    }
   ],
   "source": [
    "permutations(n=3,r=2,v=c(3,5,7))"
   ]
  },
  {
   "cell_type": "code",
   "execution_count": 4,
   "id": "906c7464",
   "metadata": {},
   "outputs": [
    {
     "data": {
      "text/html": [
       "<table>\n",
       "<tbody>\n",
       "\t<tr><td>3</td><td>5</td></tr>\n",
       "\t<tr><td>3</td><td>7</td></tr>\n",
       "\t<tr><td>5</td><td>7</td></tr>\n",
       "</tbody>\n",
       "</table>\n"
      ],
      "text/latex": [
       "\\begin{tabular}{ll}\n",
       "\t 3 & 5\\\\\n",
       "\t 3 & 7\\\\\n",
       "\t 5 & 7\\\\\n",
       "\\end{tabular}\n"
      ],
      "text/markdown": [
       "\n",
       "| 3 | 5 |\n",
       "| 3 | 7 |\n",
       "| 5 | 7 |\n",
       "\n"
      ],
      "text/plain": [
       "     [,1] [,2]\n",
       "[1,] 3    5   \n",
       "[2,] 3    7   \n",
       "[3,] 5    7   "
      ]
     },
     "metadata": {},
     "output_type": "display_data"
    }
   ],
   "source": [
    "combinations(n=3,r=2,v=c(3,5,7))"
   ]
  },
  {
   "cell_type": "code",
   "execution_count": 5,
   "id": "97d5167e",
   "metadata": {},
   "outputs": [
    {
     "data": {
      "text/html": [
       "120"
      ],
      "text/latex": [
       "120"
      ],
      "text/markdown": [
       "120"
      ],
      "text/plain": [
       "[1] 120"
      ]
     },
     "metadata": {},
     "output_type": "display_data"
    }
   ],
   "source": [
    "gamma(6)"
   ]
  },
  {
   "cell_type": "code",
   "execution_count": 6,
   "id": "522d4668",
   "metadata": {},
   "outputs": [
    {
     "data": {
      "text/html": [
       "120"
      ],
      "text/latex": [
       "120"
      ],
      "text/markdown": [
       "120"
      ],
      "text/plain": [
       "[1] 120"
      ]
     },
     "metadata": {},
     "output_type": "display_data"
    }
   ],
   "source": [
    "prod(1:5)"
   ]
  },
  {
   "cell_type": "code",
   "execution_count": null,
   "id": "9f5f4470",
   "metadata": {},
   "outputs": [],
   "source": []
  }
 ],
 "metadata": {
  "kernelspec": {
   "display_name": "R",
   "language": "R",
   "name": "ir"
  },
  "language_info": {
   "codemirror_mode": "r",
   "file_extension": ".r",
   "mimetype": "text/x-r-source",
   "name": "R",
   "pygments_lexer": "r",
   "version": "3.6.1"
  }
 },
 "nbformat": 4,
 "nbformat_minor": 5
}
